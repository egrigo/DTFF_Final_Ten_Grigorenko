{
 "cells": [
  {
   "cell_type": "code",
   "execution_count": 63,
   "metadata": {},
   "outputs": [],
   "source": [
    "import pandas as pd\n",
    "import yfinance as yf\n",
    "import matplotlib.pyplot as plt\n",
    "import talib \n",
    "from yahoo_fin.stock_info import get_data\n",
    "import yahoo_fin.stock_info as si\n",
    "import datetime"
   ]
  },
  {
   "cell_type": "code",
   "execution_count": 66,
   "metadata": {},
   "outputs": [
    {
     "name": "stdout",
     "output_type": "stream",
     "text": [
      "[*********************100%***********************]  1 of 1 completed\n"
     ]
    },
    {
     "data": {
      "text/html": [
       "<div>\n",
       "<style scoped>\n",
       "    .dataframe tbody tr th:only-of-type {\n",
       "        vertical-align: middle;\n",
       "    }\n",
       "\n",
       "    .dataframe tbody tr th {\n",
       "        vertical-align: top;\n",
       "    }\n",
       "\n",
       "    .dataframe thead th {\n",
       "        text-align: right;\n",
       "    }\n",
       "</style>\n",
       "<table border=\"1\" class=\"dataframe\">\n",
       "  <thead>\n",
       "    <tr style=\"text-align: right;\">\n",
       "      <th></th>\n",
       "      <th>Open</th>\n",
       "      <th>High</th>\n",
       "      <th>Low</th>\n",
       "      <th>Close</th>\n",
       "      <th>Adj Close</th>\n",
       "      <th>Volume</th>\n",
       "    </tr>\n",
       "    <tr>\n",
       "      <th>Date</th>\n",
       "      <th></th>\n",
       "      <th></th>\n",
       "      <th></th>\n",
       "      <th></th>\n",
       "      <th></th>\n",
       "      <th></th>\n",
       "    </tr>\n",
       "  </thead>\n",
       "  <tbody>\n",
       "    <tr>\n",
       "      <th>2010-11-29</th>\n",
       "      <td>71.961540</td>\n",
       "      <td>73.538460</td>\n",
       "      <td>71.684616</td>\n",
       "      <td>73.438461</td>\n",
       "      <td>40.411739</td>\n",
       "      <td>324200</td>\n",
       "    </tr>\n",
       "    <tr>\n",
       "      <th>2010-11-30</th>\n",
       "      <td>71.461540</td>\n",
       "      <td>71.823074</td>\n",
       "      <td>70.746155</td>\n",
       "      <td>71.415382</td>\n",
       "      <td>39.298473</td>\n",
       "      <td>443800</td>\n",
       "    </tr>\n",
       "    <tr>\n",
       "      <th>2010-12-01</th>\n",
       "      <td>72.692307</td>\n",
       "      <td>72.884613</td>\n",
       "      <td>72.092308</td>\n",
       "      <td>72.707695</td>\n",
       "      <td>40.009613</td>\n",
       "      <td>389400</td>\n",
       "    </tr>\n",
       "    <tr>\n",
       "      <th>2010-12-02</th>\n",
       "      <td>73.092308</td>\n",
       "      <td>74.069229</td>\n",
       "      <td>72.876923</td>\n",
       "      <td>73.846153</td>\n",
       "      <td>40.636082</td>\n",
       "      <td>502800</td>\n",
       "    </tr>\n",
       "    <tr>\n",
       "      <th>2010-12-03</th>\n",
       "      <td>72.192307</td>\n",
       "      <td>72.884613</td>\n",
       "      <td>71.846153</td>\n",
       "      <td>72.661537</td>\n",
       "      <td>39.984203</td>\n",
       "      <td>434700</td>\n",
       "    </tr>\n",
       "  </tbody>\n",
       "</table>\n",
       "</div>"
      ],
      "text/plain": [
       "                 Open       High        Low      Close  Adj Close  Volume\n",
       "Date                                                                     \n",
       "2010-11-29  71.961540  73.538460  71.684616  73.438461  40.411739  324200\n",
       "2010-11-30  71.461540  71.823074  70.746155  71.415382  39.298473  443800\n",
       "2010-12-01  72.692307  72.884613  72.092308  72.707695  40.009613  389400\n",
       "2010-12-02  73.092308  74.069229  72.876923  73.846153  40.636082  502800\n",
       "2010-12-03  72.192307  72.884613  71.846153  72.661537  39.984203  434700"
      ]
     },
     "execution_count": 66,
     "metadata": {},
     "output_type": "execute_result"
    }
   ],
   "source": [
    "tickers = yf.Tickers(\"SNP PTR RDS  BP XOM TOT CVX MPC LUKOY\")\n",
    "# ^ returns a named tuple of Ticker objects\n",
    "\n",
    "df = yf.download(\"SNP\", start=\"2010-11-30\", end=\"2020-11-30\", interval=\"1d\")\n",
    "df.head()"
   ]
  },
  {
   "cell_type": "code",
   "execution_count": 65,
   "metadata": {},
   "outputs": [],
   "source": [
    "close_px = df['Adj Close']\n",
    "mavg = close_px.rolling(window=100).mean()"
   ]
  },
  {
   "cell_type": "code",
   "execution_count": 42,
   "metadata": {},
   "outputs": [
    {
     "data": {
      "text/html": [
       "<div>\n",
       "<style scoped>\n",
       "    .dataframe tbody tr th:only-of-type {\n",
       "        vertical-align: middle;\n",
       "    }\n",
       "\n",
       "    .dataframe tbody tr th {\n",
       "        vertical-align: top;\n",
       "    }\n",
       "\n",
       "    .dataframe thead th {\n",
       "        text-align: right;\n",
       "    }\n",
       "</style>\n",
       "<table border=\"1\" class=\"dataframe\">\n",
       "  <thead>\n",
       "    <tr style=\"text-align: right;\">\n",
       "      <th></th>\n",
       "      <th>attribute</th>\n",
       "      <th>value</th>\n",
       "    </tr>\n",
       "  </thead>\n",
       "  <tbody>\n",
       "    <tr>\n",
       "      <th>0</th>\n",
       "      <td>1y Target Est</td>\n",
       "      <td>27.89</td>\n",
       "    </tr>\n",
       "    <tr>\n",
       "      <th>1</th>\n",
       "      <td>52 Week Range</td>\n",
       "      <td>14.74 - 40.08</td>\n",
       "    </tr>\n",
       "    <tr>\n",
       "      <th>2</th>\n",
       "      <td>Ask</td>\n",
       "      <td>22.26 x 2900</td>\n",
       "    </tr>\n",
       "    <tr>\n",
       "      <th>3</th>\n",
       "      <td>Avg. Volume</td>\n",
       "      <td>1.71797e+07</td>\n",
       "    </tr>\n",
       "    <tr>\n",
       "      <th>4</th>\n",
       "      <td>Beta (5Y Monthly)</td>\n",
       "      <td>0.7</td>\n",
       "    </tr>\n",
       "    <tr>\n",
       "      <th>5</th>\n",
       "      <td>Bid</td>\n",
       "      <td>22.25 x 900</td>\n",
       "    </tr>\n",
       "    <tr>\n",
       "      <th>6</th>\n",
       "      <td>Day's Range</td>\n",
       "      <td>21.98 - 22.83</td>\n",
       "    </tr>\n",
       "    <tr>\n",
       "      <th>7</th>\n",
       "      <td>EPS (TTM)</td>\n",
       "      <td>-6.42</td>\n",
       "    </tr>\n",
       "    <tr>\n",
       "      <th>8</th>\n",
       "      <td>Earnings Date</td>\n",
       "      <td>NaN</td>\n",
       "    </tr>\n",
       "    <tr>\n",
       "      <th>9</th>\n",
       "      <td>Ex-Dividend Date</td>\n",
       "      <td>Nov 05, 2020</td>\n",
       "    </tr>\n",
       "    <tr>\n",
       "      <th>10</th>\n",
       "      <td>Forward Dividend &amp; Yield</td>\n",
       "      <td>1.26 (5.75%)</td>\n",
       "    </tr>\n",
       "    <tr>\n",
       "      <th>11</th>\n",
       "      <td>Market Cap</td>\n",
       "      <td>75.118B</td>\n",
       "    </tr>\n",
       "    <tr>\n",
       "      <th>12</th>\n",
       "      <td>Open</td>\n",
       "      <td>22.02</td>\n",
       "    </tr>\n",
       "    <tr>\n",
       "      <th>13</th>\n",
       "      <td>PE Ratio (TTM)</td>\n",
       "      <td>NaN</td>\n",
       "    </tr>\n",
       "    <tr>\n",
       "      <th>14</th>\n",
       "      <td>Previous Close</td>\n",
       "      <td>21.9</td>\n",
       "    </tr>\n",
       "    <tr>\n",
       "      <th>15</th>\n",
       "      <td>Quote Price</td>\n",
       "      <td>22.28</td>\n",
       "    </tr>\n",
       "    <tr>\n",
       "      <th>16</th>\n",
       "      <td>Volume</td>\n",
       "      <td>1.4973e+07</td>\n",
       "    </tr>\n",
       "  </tbody>\n",
       "</table>\n",
       "</div>"
      ],
      "text/plain": [
       "                   attribute          value\n",
       "0              1y Target Est          27.89\n",
       "1              52 Week Range  14.74 - 40.08\n",
       "2                        Ask   22.26 x 2900\n",
       "3                Avg. Volume    1.71797e+07\n",
       "4          Beta (5Y Monthly)            0.7\n",
       "5                        Bid    22.25 x 900\n",
       "6                Day's Range  21.98 - 22.83\n",
       "7                  EPS (TTM)          -6.42\n",
       "8              Earnings Date            NaN\n",
       "9           Ex-Dividend Date   Nov 05, 2020\n",
       "10  Forward Dividend & Yield   1.26 (5.75%)\n",
       "11                Market Cap        75.118B\n",
       "12                      Open          22.02\n",
       "13            PE Ratio (TTM)            NaN\n",
       "14            Previous Close           21.9\n",
       "15               Quote Price          22.28\n",
       "16                    Volume     1.4973e+07"
      ]
     },
     "execution_count": 42,
     "metadata": {},
     "output_type": "execute_result"
    }
   ],
   "source": [
    "# SUmmary of the fundamental data\n",
    "quote_table_LUKOY = si.get_quote_table(\"LUKOY\", dict_result=False)\n",
    "quote_table"
   ]
  },
  {
   "cell_type": "code",
   "execution_count": 43,
   "metadata": {},
   "outputs": [
    {
     "ename": "TypeError",
     "evalue": "first argument must be an iterable of pandas objects, you passed an object of type \"DataFrame\"",
     "output_type": "error",
     "traceback": [
      "\u001b[0;31m---------------------------------------------------------------------------\u001b[0m",
      "\u001b[0;31mTypeError\u001b[0m                                 Traceback (most recent call last)",
      "\u001b[0;32m<ipython-input-43-0b2937049f63>\u001b[0m in \u001b[0;36m<module>\u001b[0;34m\u001b[0m\n\u001b[0;32m----> 1\u001b[0;31m \u001b[0mcombined_stats\u001b[0m \u001b[0;34m=\u001b[0m \u001b[0mpd\u001b[0m\u001b[0;34m.\u001b[0m\u001b[0mconcat\u001b[0m\u001b[0;34m(\u001b[0m\u001b[0mquote_table_LUKOY\u001b[0m\u001b[0;34m,\u001b[0m \u001b[0mquote_table_BP\u001b[0m\u001b[0;34m)\u001b[0m\u001b[0;34m\u001b[0m\u001b[0;34m\u001b[0m\u001b[0m\n\u001b[0m",
      "\u001b[0;32m/opt/anaconda3/lib/python3.7/site-packages/pandas/core/reshape/concat.py\u001b[0m in \u001b[0;36mconcat\u001b[0;34m(objs, axis, join, ignore_index, keys, levels, names, verify_integrity, sort, copy)\u001b[0m\n\u001b[1;32m    282\u001b[0m         \u001b[0mverify_integrity\u001b[0m\u001b[0;34m=\u001b[0m\u001b[0mverify_integrity\u001b[0m\u001b[0;34m,\u001b[0m\u001b[0;34m\u001b[0m\u001b[0;34m\u001b[0m\u001b[0m\n\u001b[1;32m    283\u001b[0m         \u001b[0mcopy\u001b[0m\u001b[0;34m=\u001b[0m\u001b[0mcopy\u001b[0m\u001b[0;34m,\u001b[0m\u001b[0;34m\u001b[0m\u001b[0;34m\u001b[0m\u001b[0m\n\u001b[0;32m--> 284\u001b[0;31m         \u001b[0msort\u001b[0m\u001b[0;34m=\u001b[0m\u001b[0msort\u001b[0m\u001b[0;34m,\u001b[0m\u001b[0;34m\u001b[0m\u001b[0;34m\u001b[0m\u001b[0m\n\u001b[0m\u001b[1;32m    285\u001b[0m     )\n\u001b[1;32m    286\u001b[0m \u001b[0;34m\u001b[0m\u001b[0m\n",
      "\u001b[0;32m/opt/anaconda3/lib/python3.7/site-packages/pandas/core/reshape/concat.py\u001b[0m in \u001b[0;36m__init__\u001b[0;34m(self, objs, axis, join, keys, levels, names, ignore_index, verify_integrity, copy, sort)\u001b[0m\n\u001b[1;32m    308\u001b[0m         \u001b[0;32mif\u001b[0m \u001b[0misinstance\u001b[0m\u001b[0;34m(\u001b[0m\u001b[0mobjs\u001b[0m\u001b[0;34m,\u001b[0m \u001b[0;34m(\u001b[0m\u001b[0mABCSeries\u001b[0m\u001b[0;34m,\u001b[0m \u001b[0mABCDataFrame\u001b[0m\u001b[0;34m,\u001b[0m \u001b[0mstr\u001b[0m\u001b[0;34m)\u001b[0m\u001b[0;34m)\u001b[0m\u001b[0;34m:\u001b[0m\u001b[0;34m\u001b[0m\u001b[0;34m\u001b[0m\u001b[0m\n\u001b[1;32m    309\u001b[0m             raise TypeError(\n\u001b[0;32m--> 310\u001b[0;31m                 \u001b[0;34m\"first argument must be an iterable of pandas \"\u001b[0m\u001b[0;34m\u001b[0m\u001b[0;34m\u001b[0m\u001b[0m\n\u001b[0m\u001b[1;32m    311\u001b[0m                 \u001b[0;34mf'objects, you passed an object of type \"{type(objs).__name__}\"'\u001b[0m\u001b[0;34m\u001b[0m\u001b[0;34m\u001b[0m\u001b[0m\n\u001b[1;32m    312\u001b[0m             )\n",
      "\u001b[0;31mTypeError\u001b[0m: first argument must be an iterable of pandas objects, you passed an object of type \"DataFrame\""
     ]
    }
   ],
   "source": [
    "combined_stats = pd.concat(quote_table_LUKOY, quote_table_BP)"
   ]
  },
  {
   "cell_type": "code",
   "execution_count": 24,
   "metadata": {},
   "outputs": [
    {
     "data": {
      "text/html": [
       "<div>\n",
       "<style scoped>\n",
       "    .dataframe tbody tr th:only-of-type {\n",
       "        vertical-align: middle;\n",
       "    }\n",
       "\n",
       "    .dataframe tbody tr th {\n",
       "        vertical-align: top;\n",
       "    }\n",
       "\n",
       "    .dataframe thead th {\n",
       "        text-align: right;\n",
       "    }\n",
       "</style>\n",
       "<table border=\"1\" class=\"dataframe\">\n",
       "  <thead>\n",
       "    <tr style=\"text-align: right;\">\n",
       "      <th>endDate</th>\n",
       "      <th>2019-12-31</th>\n",
       "      <th>2018-12-31</th>\n",
       "      <th>2017-12-31</th>\n",
       "      <th>2016-12-31</th>\n",
       "    </tr>\n",
       "    <tr>\n",
       "      <th>Breakdown</th>\n",
       "      <th></th>\n",
       "      <th></th>\n",
       "      <th></th>\n",
       "      <th></th>\n",
       "    </tr>\n",
       "  </thead>\n",
       "  <tbody>\n",
       "    <tr>\n",
       "      <th>researchDevelopment</th>\n",
       "      <td>None</td>\n",
       "      <td>None</td>\n",
       "      <td>None</td>\n",
       "      <td>None</td>\n",
       "    </tr>\n",
       "    <tr>\n",
       "      <th>effectOfAccountingCharges</th>\n",
       "      <td>None</td>\n",
       "      <td>None</td>\n",
       "      <td>None</td>\n",
       "      <td>None</td>\n",
       "    </tr>\n",
       "    <tr>\n",
       "      <th>incomeBeforeTax</th>\n",
       "      <td>8154000000</td>\n",
       "      <td>16723000000</td>\n",
       "      <td>7180000000</td>\n",
       "      <td>-2295000000</td>\n",
       "    </tr>\n",
       "    <tr>\n",
       "      <th>minorityInterest</th>\n",
       "      <td>2296000000</td>\n",
       "      <td>2104000000</td>\n",
       "      <td>1913000000</td>\n",
       "      <td>1557000000</td>\n",
       "    </tr>\n",
       "    <tr>\n",
       "      <th>netIncome</th>\n",
       "      <td>4026000000</td>\n",
       "      <td>9383000000</td>\n",
       "      <td>3389000000</td>\n",
       "      <td>115000000</td>\n",
       "    </tr>\n",
       "    <tr>\n",
       "      <th>sellingGeneralAdministrative</th>\n",
       "      <td>11120000000</td>\n",
       "      <td>12306000000</td>\n",
       "      <td>10728000000</td>\n",
       "      <td>10685000000</td>\n",
       "    </tr>\n",
       "    <tr>\n",
       "      <th>grossProfit</th>\n",
       "      <td>45682000000</td>\n",
       "      <td>45051000000</td>\n",
       "      <td>37175000000</td>\n",
       "      <td>27669000000</td>\n",
       "    </tr>\n",
       "    <tr>\n",
       "      <th>ebit</th>\n",
       "      <td>15255000000</td>\n",
       "      <td>15914000000</td>\n",
       "      <td>8623000000</td>\n",
       "      <td>492000000</td>\n",
       "    </tr>\n",
       "    <tr>\n",
       "      <th>operatingIncome</th>\n",
       "      <td>15255000000</td>\n",
       "      <td>15914000000</td>\n",
       "      <td>8623000000</td>\n",
       "      <td>492000000</td>\n",
       "    </tr>\n",
       "    <tr>\n",
       "      <th>otherOperatingExpenses</th>\n",
       "      <td>563000000</td>\n",
       "      <td>270000000</td>\n",
       "      <td>160000000</td>\n",
       "      <td>204000000</td>\n",
       "    </tr>\n",
       "    <tr>\n",
       "      <th>interestExpense</th>\n",
       "      <td>-2415000000</td>\n",
       "      <td>-1779000000</td>\n",
       "      <td>-1421000000</td>\n",
       "      <td>-977000000</td>\n",
       "    </tr>\n",
       "    <tr>\n",
       "      <th>extraordinaryItems</th>\n",
       "      <td>None</td>\n",
       "      <td>None</td>\n",
       "      <td>None</td>\n",
       "      <td>None</td>\n",
       "    </tr>\n",
       "    <tr>\n",
       "      <th>nonRecurring</th>\n",
       "      <td>None</td>\n",
       "      <td>None</td>\n",
       "      <td>None</td>\n",
       "      <td>None</td>\n",
       "    </tr>\n",
       "    <tr>\n",
       "      <th>otherItems</th>\n",
       "      <td>None</td>\n",
       "      <td>None</td>\n",
       "      <td>None</td>\n",
       "      <td>None</td>\n",
       "    </tr>\n",
       "    <tr>\n",
       "      <th>incomeTaxExpense</th>\n",
       "      <td>3964000000</td>\n",
       "      <td>7145000000</td>\n",
       "      <td>3712000000</td>\n",
       "      <td>-2467000000</td>\n",
       "    </tr>\n",
       "    <tr>\n",
       "      <th>totalRevenue</th>\n",
       "      <td>276850000000</td>\n",
       "      <td>297220000000</td>\n",
       "      <td>238433000000</td>\n",
       "      <td>182325000000</td>\n",
       "    </tr>\n",
       "    <tr>\n",
       "      <th>totalOperatingExpenses</th>\n",
       "      <td>261595000000</td>\n",
       "      <td>281306000000</td>\n",
       "      <td>229810000000</td>\n",
       "      <td>181833000000</td>\n",
       "    </tr>\n",
       "    <tr>\n",
       "      <th>costOfRevenue</th>\n",
       "      <td>231168000000</td>\n",
       "      <td>252169000000</td>\n",
       "      <td>201258000000</td>\n",
       "      <td>154656000000</td>\n",
       "    </tr>\n",
       "    <tr>\n",
       "      <th>totalOtherIncomeExpenseNet</th>\n",
       "      <td>-7101000000</td>\n",
       "      <td>809000000</td>\n",
       "      <td>-1443000000</td>\n",
       "      <td>-2787000000</td>\n",
       "    </tr>\n",
       "    <tr>\n",
       "      <th>discontinuedOperations</th>\n",
       "      <td>None</td>\n",
       "      <td>None</td>\n",
       "      <td>None</td>\n",
       "      <td>None</td>\n",
       "    </tr>\n",
       "    <tr>\n",
       "      <th>netIncomeFromContinuingOps</th>\n",
       "      <td>4190000000</td>\n",
       "      <td>9578000000</td>\n",
       "      <td>3468000000</td>\n",
       "      <td>172000000</td>\n",
       "    </tr>\n",
       "    <tr>\n",
       "      <th>netIncomeApplicableToCommonShares</th>\n",
       "      <td>4025000000</td>\n",
       "      <td>9382000000</td>\n",
       "      <td>3388000000</td>\n",
       "      <td>114000000</td>\n",
       "    </tr>\n",
       "  </tbody>\n",
       "</table>\n",
       "</div>"
      ],
      "text/plain": [
       "endDate                              2019-12-31    2018-12-31    2017-12-31  \\\n",
       "Breakdown                                                                     \n",
       "researchDevelopment                        None          None          None   \n",
       "effectOfAccountingCharges                  None          None          None   \n",
       "incomeBeforeTax                      8154000000   16723000000    7180000000   \n",
       "minorityInterest                     2296000000    2104000000    1913000000   \n",
       "netIncome                            4026000000    9383000000    3389000000   \n",
       "sellingGeneralAdministrative        11120000000   12306000000   10728000000   \n",
       "grossProfit                         45682000000   45051000000   37175000000   \n",
       "ebit                                15255000000   15914000000    8623000000   \n",
       "operatingIncome                     15255000000   15914000000    8623000000   \n",
       "otherOperatingExpenses                563000000     270000000     160000000   \n",
       "interestExpense                     -2415000000   -1779000000   -1421000000   \n",
       "extraordinaryItems                         None          None          None   \n",
       "nonRecurring                               None          None          None   \n",
       "otherItems                                 None          None          None   \n",
       "incomeTaxExpense                     3964000000    7145000000    3712000000   \n",
       "totalRevenue                       276850000000  297220000000  238433000000   \n",
       "totalOperatingExpenses             261595000000  281306000000  229810000000   \n",
       "costOfRevenue                      231168000000  252169000000  201258000000   \n",
       "totalOtherIncomeExpenseNet          -7101000000     809000000   -1443000000   \n",
       "discontinuedOperations                     None          None          None   \n",
       "netIncomeFromContinuingOps           4190000000    9578000000    3468000000   \n",
       "netIncomeApplicableToCommonShares    4025000000    9382000000    3388000000   \n",
       "\n",
       "endDate                              2016-12-31  \n",
       "Breakdown                                        \n",
       "researchDevelopment                        None  \n",
       "effectOfAccountingCharges                  None  \n",
       "incomeBeforeTax                     -2295000000  \n",
       "minorityInterest                     1557000000  \n",
       "netIncome                             115000000  \n",
       "sellingGeneralAdministrative        10685000000  \n",
       "grossProfit                         27669000000  \n",
       "ebit                                  492000000  \n",
       "operatingIncome                       492000000  \n",
       "otherOperatingExpenses                204000000  \n",
       "interestExpense                      -977000000  \n",
       "extraordinaryItems                         None  \n",
       "nonRecurring                               None  \n",
       "otherItems                                 None  \n",
       "incomeTaxExpense                    -2467000000  \n",
       "totalRevenue                       182325000000  \n",
       "totalOperatingExpenses             181833000000  \n",
       "costOfRevenue                      154656000000  \n",
       "totalOtherIncomeExpenseNet          -2787000000  \n",
       "discontinuedOperations                     None  \n",
       "netIncomeFromContinuingOps            172000000  \n",
       "netIncomeApplicableToCommonShares     114000000  "
      ]
     },
     "execution_count": 24,
     "metadata": {},
     "output_type": "execute_result"
    }
   ],
   "source": [
    "si.get_stats_valuation(\"PTR\")\n",
    "\n"
   ]
  },
  {
   "cell_type": "code",
   "execution_count": 22,
   "metadata": {},
   "outputs": [
    {
     "data": {
      "text/plain": [
       "{'AAPL':                      Attribute Recent\n",
       " 0      Market Cap (intraday) 5  2.07T\n",
       " 1           Enterprise Value 3  2.09T\n",
       " 2                 Trailing P/E  37.13\n",
       " 3                Forward P/E 1  30.67\n",
       " 4  PEG Ratio (5 yr expected) 1   3.06\n",
       " 5            Price/Sales (ttm)   7.78\n",
       " 6             Price/Book (mrq)  31.69\n",
       " 7   Enterprise Value/Revenue 3   7.62\n",
       " 8    Enterprise Value/EBITDA 6  25.82,\n",
       " 'AMGN':                      Attribute   Recent\n",
       " 0      Market Cap (intraday) 5  133.44B\n",
       " 1           Enterprise Value 3  155.37B\n",
       " 2                 Trailing P/E    18.47\n",
       " 3                Forward P/E 1    13.50\n",
       " 4  PEG Ratio (5 yr expected) 1     1.51\n",
       " 5            Price/Sales (ttm)     5.44\n",
       " 6             Price/Book (mrq)    12.18\n",
       " 7   Enterprise Value/Revenue 3     6.22\n",
       " 8    Enterprise Value/EBITDA 6    12.03,\n",
       " 'AXP':                      Attribute   Recent\n",
       " 0      Market Cap (intraday) 5  100.68B\n",
       " 1           Enterprise Value 3      NaN\n",
       " 2                 Trailing P/E    30.95\n",
       " 3                Forward P/E 1    18.12\n",
       " 4  PEG Ratio (5 yr expected) 1    15.10\n",
       " 5            Price/Sales (ttm)     3.59\n",
       " 6             Price/Book (mrq)     4.60\n",
       " 7   Enterprise Value/Revenue 3      NaN\n",
       " 8    Enterprise Value/EBITDA 6      NaN,\n",
       " 'BA':                      Attribute   Recent\n",
       " 0      Market Cap (intraday) 5  131.37B\n",
       " 1           Enterprise Value 3  165.21B\n",
       " 2                 Trailing P/E      NaN\n",
       " 3                Forward P/E 1    98.04\n",
       " 4  PEG Ratio (5 yr expected) 1     6.53\n",
       " 5            Price/Sales (ttm)     2.17\n",
       " 6             Price/Book (mrq)      NaN\n",
       " 7   Enterprise Value/Revenue 3     2.72\n",
       " 8    Enterprise Value/EBITDA 6   -39.36,\n",
       " 'CAT':                      Attribute   Recent\n",
       " 0      Market Cap (intraday) 5   97.09B\n",
       " 1           Enterprise Value 3  125.90B\n",
       " 2                 Trailing P/E    29.59\n",
       " 3                Forward P/E 1    24.15\n",
       " 4  PEG Ratio (5 yr expected) 1     8.72\n",
       " 5            Price/Sales (ttm)     2.25\n",
       " 6             Price/Book (mrq)     6.49\n",
       " 7   Enterprise Value/Revenue 3     2.88\n",
       " 8    Enterprise Value/EBITDA 6    17.07,\n",
       " 'CRM':                      Attribute   Recent\n",
       " 0      Market Cap (intraday) 5  208.49B\n",
       " 1           Enterprise Value 3  204.84B\n",
       " 2                 Trailing P/E    59.81\n",
       " 3                Forward P/E 1    63.69\n",
       " 4  PEG Ratio (5 yr expected) 1     3.18\n",
       " 5            Price/Sales (ttm)    10.36\n",
       " 6             Price/Book (mrq)     5.17\n",
       " 7   Enterprise Value/Revenue 3    10.10\n",
       " 8    Enterprise Value/EBITDA 6    72.23,\n",
       " 'CSCO':                      Attribute   Recent\n",
       " 0      Market Cap (intraday) 5  187.53B\n",
       " 1           Enterprise Value 3  172.08B\n",
       " 2                 Trailing P/E    17.97\n",
       " 3                Forward P/E 1    14.27\n",
       " 4  PEG Ratio (5 yr expected) 1     2.94\n",
       " 5            Price/Sales (ttm)     3.92\n",
       " 6             Price/Book (mrq)     4.91\n",
       " 7   Enterprise Value/Revenue 3     3.58\n",
       " 8    Enterprise Value/EBITDA 6    11.26,\n",
       " 'CVX':                      Attribute   Recent\n",
       " 0      Market Cap (intraday) 5  176.22B\n",
       " 1           Enterprise Value 3  204.13B\n",
       " 2                 Trailing P/E    43.77\n",
       " 3                Forward P/E 1    34.25\n",
       " 4  PEG Ratio (5 yr expected) 1     0.89\n",
       " 5            Price/Sales (ttm)     1.64\n",
       " 6             Price/Book (mrq)     1.34\n",
       " 7   Enterprise Value/Revenue 3     1.96\n",
       " 8    Enterprise Value/EBITDA 6    11.85,\n",
       " 'DIS':                      Attribute   Recent\n",
       " 0      Market Cap (intraday) 5  278.31B\n",
       " 1           Enterprise Value 3  319.02B\n",
       " 2                 Trailing P/E    51.22\n",
       " 3                Forward P/E 1    67.11\n",
       " 4  PEG Ratio (5 yr expected) 1    18.64\n",
       " 5            Price/Sales (ttm)     4.25\n",
       " 6             Price/Book (mrq)     3.33\n",
       " 7   Enterprise Value/Revenue 3     4.88\n",
       " 8    Enterprise Value/EBITDA 6    60.78,\n",
       " 'DOW':                      Attribute  Recent\n",
       " 0      Market Cap (intraday) 5  40.83B\n",
       " 1           Enterprise Value 3  55.55B\n",
       " 2                 Trailing P/E     NaN\n",
       " 3                Forward P/E 1   20.58\n",
       " 4  PEG Ratio (5 yr expected) 1     NaN\n",
       " 5            Price/Sales (ttm)    1.07\n",
       " 6             Price/Book (mrq)    3.31\n",
       " 7   Enterprise Value/Revenue 3    1.46\n",
       " 8    Enterprise Value/EBITDA 6   31.58,\n",
       " 'GS':                      Attribute  Recent\n",
       " 0      Market Cap (intraday) 5  82.43B\n",
       " 1           Enterprise Value 3     NaN\n",
       " 2                 Trailing P/E   13.80\n",
       " 3                Forward P/E 1    9.96\n",
       " 4  PEG Ratio (5 yr expected) 1    1.95\n",
       " 5            Price/Sales (ttm)    2.22\n",
       " 6             Price/Book (mrq)    1.01\n",
       " 7   Enterprise Value/Revenue 3     NaN\n",
       " 8    Enterprise Value/EBITDA 6     NaN,\n",
       " 'HD':                      Attribute   Recent\n",
       " 0      Market Cap (intraday) 5  281.77B\n",
       " 1           Enterprise Value 3  308.16B\n",
       " 2                 Trailing P/E    22.62\n",
       " 3                Forward P/E 1    21.32\n",
       " 4  PEG Ratio (5 yr expected) 1     2.22\n",
       " 5            Price/Sales (ttm)     2.25\n",
       " 6             Price/Book (mrq)   183.56\n",
       " 7   Enterprise Value/Revenue 3     2.45\n",
       " 8    Enterprise Value/EBITDA 6    15.33,\n",
       " 'HON':                      Attribute   Recent\n",
       " 0      Market Cap (intraday) 5  149.23B\n",
       " 1           Enterprise Value 3  156.45B\n",
       " 2                 Trailing P/E    30.51\n",
       " 3                Forward P/E 1    26.81\n",
       " 4  PEG Ratio (5 yr expected) 1     3.12\n",
       " 5            Price/Sales (ttm)     4.57\n",
       " 6             Price/Book (mrq)     8.26\n",
       " 7   Enterprise Value/Revenue 3     4.71\n",
       " 8    Enterprise Value/EBITDA 6    21.02,\n",
       " 'IBM':                      Attribute   Recent\n",
       " 0      Market Cap (intraday) 5  112.01B\n",
       " 1           Enterprise Value 3  166.81B\n",
       " 2                 Trailing P/E    14.24\n",
       " 3                Forward P/E 1    10.73\n",
       " 4  PEG Ratio (5 yr expected) 1     9.33\n",
       " 5            Price/Sales (ttm)     1.50\n",
       " 6             Price/Book (mrq)     5.28\n",
       " 7   Enterprise Value/Revenue 3     2.22\n",
       " 8    Enterprise Value/EBITDA 6    10.89,\n",
       " 'INTC':                      Attribute   Recent\n",
       " 0      Market Cap (intraday) 5  213.03B\n",
       " 1           Enterprise Value 3  231.34B\n",
       " 2                 Trailing P/E    10.21\n",
       " 3                Forward P/E 1    10.72\n",
       " 4  PEG Ratio (5 yr expected) 1     1.83\n",
       " 5            Price/Sales (ttm)     2.86\n",
       " 6             Price/Book (mrq)     2.86\n",
       " 7   Enterprise Value/Revenue 3     2.96\n",
       " 8    Enterprise Value/EBITDA 6     6.02,\n",
       " 'JNJ':                      Attribute   Recent\n",
       " 0      Market Cap (intraday) 5  398.96B\n",
       " 1           Enterprise Value 3  405.94B\n",
       " 2                 Trailing P/E    23.83\n",
       " 3                Forward P/E 1    16.75\n",
       " 4  PEG Ratio (5 yr expected) 1     2.82\n",
       " 5            Price/Sales (ttm)     5.01\n",
       " 6             Price/Book (mrq)     6.19\n",
       " 7   Enterprise Value/Revenue 3     5.02\n",
       " 8    Enterprise Value/EBITDA 6    15.39,\n",
       " 'JPM':                      Attribute   Recent\n",
       " 0      Market Cap (intraday) 5  372.92B\n",
       " 1           Enterprise Value 3      NaN\n",
       " 2                 Trailing P/E    15.97\n",
       " 3                Forward P/E 1    13.72\n",
       " 4  PEG Ratio (5 yr expected) 1     8.57\n",
       " 5            Price/Sales (ttm)     3.19\n",
       " 6             Price/Book (mrq)     1.55\n",
       " 7   Enterprise Value/Revenue 3      NaN\n",
       " 8    Enterprise Value/EBITDA 6      NaN,\n",
       " 'KO':                      Attribute   Recent\n",
       " 0      Market Cap (intraday) 5  231.42B\n",
       " 1           Enterprise Value 3  263.16B\n",
       " 2                 Trailing P/E    27.90\n",
       " 3                Forward P/E 1    24.69\n",
       " 4  PEG Ratio (5 yr expected) 1     4.66\n",
       " 5            Price/Sales (ttm)     6.95\n",
       " 6             Price/Book (mrq)    12.44\n",
       " 7   Enterprise Value/Revenue 3     7.86\n",
       " 8    Enterprise Value/EBITDA 6    20.76,\n",
       " 'MCD':                      Attribute   Recent\n",
       " 0      Market Cap (intraday) 5  157.02B\n",
       " 1           Enterprise Value 3  204.63B\n",
       " 2                 Trailing P/E    32.17\n",
       " 3                Forward P/E 1    24.94\n",
       " 4  PEG Ratio (5 yr expected) 1     3.03\n",
       " 5            Price/Sales (ttm)     8.32\n",
       " 6             Price/Book (mrq)      NaN\n",
       " 7   Enterprise Value/Revenue 3    10.75\n",
       " 8    Enterprise Value/EBITDA 6    22.13,\n",
       " 'MMM':                      Attribute   Recent\n",
       " 0      Market Cap (intraday) 5   98.15B\n",
       " 1           Enterprise Value 3  114.04B\n",
       " 2                 Trailing P/E    19.95\n",
       " 3                Forward P/E 1    18.12\n",
       " 4  PEG Ratio (5 yr expected) 1     3.66\n",
       " 5            Price/Sales (ttm)     3.12\n",
       " 6             Price/Book (mrq)     8.26\n",
       " 7   Enterprise Value/Revenue 3     3.60\n",
       " 8    Enterprise Value/EBITDA 6    13.26,\n",
       " 'MRK':                      Attribute   Recent\n",
       " 0      Market Cap (intraday) 5  208.75B\n",
       " 1           Enterprise Value 3  230.14B\n",
       " 2                 Trailing P/E    18.21\n",
       " 3                Forward P/E 1    12.77\n",
       " 4  PEG Ratio (5 yr expected) 1     1.27\n",
       " 5            Price/Sales (ttm)     4.44\n",
       " 6             Price/Book (mrq)     7.15\n",
       " 7   Enterprise Value/Revenue 3     4.86\n",
       " 8    Enterprise Value/EBITDA 6    12.73,\n",
       " 'MSFT':                      Attribute Recent\n",
       " 0      Market Cap (intraday) 5  1.62T\n",
       " 1           Enterprise Value 3  1.55T\n",
       " 2                 Trailing P/E  34.56\n",
       " 3                Forward P/E 1  31.75\n",
       " 4  PEG Ratio (5 yr expected) 1   2.48\n",
       " 5            Price/Sales (ttm)  11.16\n",
       " 6             Price/Book (mrq)  13.13\n",
       " 7   Enterprise Value/Revenue 3  10.56\n",
       " 8    Enterprise Value/EBITDA 6  21.73,\n",
       " 'NKE':                      Attribute   Recent\n",
       " 0      Market Cap (intraday) 5  218.39B\n",
       " 1           Enterprise Value 3  221.88B\n",
       " 2                 Trailing P/E    82.32\n",
       " 3                Forward P/E 1    54.35\n",
       " 4  PEG Ratio (5 yr expected) 1     2.05\n",
       " 5            Price/Sales (ttm)     5.93\n",
       " 6             Price/Book (mrq)    23.68\n",
       " 7   Enterprise Value/Revenue 3     5.94\n",
       " 8    Enterprise Value/EBITDA 6    49.32,\n",
       " 'PG':                      Attribute   Recent\n",
       " 0      Market Cap (intraday) 5  340.87B\n",
       " 1           Enterprise Value 3  360.02B\n",
       " 2                 Trailing P/E    26.28\n",
       " 3                Forward P/E 1    25.77\n",
       " 4  PEG Ratio (5 yr expected) 1     4.48\n",
       " 5            Price/Sales (ttm)     4.97\n",
       " 6             Price/Book (mrq)     7.18\n",
       " 7   Enterprise Value/Revenue 3     4.97\n",
       " 8    Enterprise Value/EBITDA 6    17.79,\n",
       " 'TRV':                      Attribute  Recent\n",
       " 0      Market Cap (intraday) 5  34.49B\n",
       " 1           Enterprise Value 3  40.96B\n",
       " 2                 Trailing P/E   15.58\n",
       " 3                Forward P/E 1   13.18\n",
       " 4  PEG Ratio (5 yr expected) 1    1.23\n",
       " 5            Price/Sales (ttm)    1.10\n",
       " 6             Price/Book (mrq)    1.24\n",
       " 7   Enterprise Value/Revenue 3    1.29\n",
       " 8    Enterprise Value/EBITDA 6     NaN,\n",
       " 'UNH':                      Attribute   Recent\n",
       " 0      Market Cap (intraday) 5  331.98B\n",
       " 1           Enterprise Value 3  354.97B\n",
       " 2                 Trailing P/E    20.10\n",
       " 3                Forward P/E 1    19.27\n",
       " 4  PEG Ratio (5 yr expected) 1     1.61\n",
       " 5            Price/Sales (ttm)     1.34\n",
       " 6             Price/Book (mrq)     5.09\n",
       " 7   Enterprise Value/Revenue 3     1.41\n",
       " 8    Enterprise Value/EBITDA 6    13.22,\n",
       " 'V':                      Attribute   Recent\n",
       " 0      Market Cap (intraday) 5  468.83B\n",
       " 1           Enterprise Value 3  477.95B\n",
       " 2                 Trailing P/E    43.49\n",
       " 3                Forward P/E 1    38.46\n",
       " 4  PEG Ratio (5 yr expected) 1     3.57\n",
       " 5            Price/Sales (ttm)    21.64\n",
       " 6             Price/Book (mrq)    15.06\n",
       " 7   Enterprise Value/Revenue 3    21.88\n",
       " 8    Enterprise Value/EBITDA 6    31.71,\n",
       " 'VZ':                      Attribute   Recent\n",
       " 0      Market Cap (intraday) 5  255.49B\n",
       " 1           Enterprise Value 3  383.71B\n",
       " 2                 Trailing P/E    13.97\n",
       " 3                Forward P/E 1    12.39\n",
       " 4  PEG Ratio (5 yr expected) 1     4.19\n",
       " 5            Price/Sales (ttm)     1.99\n",
       " 6             Price/Book (mrq)     3.93\n",
       " 7   Enterprise Value/Revenue 3     2.99\n",
       " 8    Enterprise Value/EBITDA 6     9.05,\n",
       " 'WBA':                      Attribute  Recent\n",
       " 0      Market Cap (intraday) 5  33.77B\n",
       " 1           Enterprise Value 3  73.40B\n",
       " 2                 Trailing P/E   75.00\n",
       " 3                Forward P/E 1    8.05\n",
       " 4  PEG Ratio (5 yr expected) 1     NaN\n",
       " 5            Price/Sales (ttm)    0.25\n",
       " 6             Price/Book (mrq)    1.64\n",
       " 7   Enterprise Value/Revenue 3    0.53\n",
       " 8    Enterprise Value/EBITDA 6   22.18,\n",
       " 'WMT':                      Attribute   Recent\n",
       " 0      Market Cap (intraday) 5  422.84B\n",
       " 1           Enterprise Value 3  476.99B\n",
       " 2                 Trailing P/E    21.57\n",
       " 3                Forward P/E 1    25.97\n",
       " 4  PEG Ratio (5 yr expected) 1     4.06\n",
       " 5            Price/Sales (ttm)     0.78\n",
       " 6             Price/Book (mrq)     5.19\n",
       " 7   Enterprise Value/Revenue 3     0.87\n",
       " 8    Enterprise Value/EBITDA 6    11.80}"
      ]
     },
     "execution_count": 22,
     "metadata": {},
     "output_type": "execute_result"
    }
   ],
   "source": []
  },
  {
   "cell_type": "code",
   "execution_count": null,
   "metadata": {},
   "outputs": [],
   "source": [
    "combined_stats = pd.concat(dow_stats)\n",
    "combined_stats = combined_stats.reset_index()\n",
    "combined_stats"
   ]
  },
  {
   "cell_type": "code",
   "execution_count": null,
   "metadata": {},
   "outputs": [],
   "source": []
  },
  {
   "cell_type": "markdown",
   "metadata": {},
   "source": [
    "# Exploring Moving Average and Return Rate of Stocks\n",
    "## In this analysis, we analyse stocks using two key measurements: Rolling Mean and Return Rate.\n",
    "## Moving Average\n",
    "\n",
    "\n"
   ]
  },
  {
   "cell_type": "code",
   "execution_count": 68,
   "metadata": {},
   "outputs": [
    {
     "ename": "KeyError",
     "evalue": "'Close Adj'",
     "output_type": "error",
     "traceback": [
      "\u001b[0;31m---------------------------------------------------------------------------\u001b[0m",
      "\u001b[0;31mKeyError\u001b[0m                                  Traceback (most recent call last)",
      "\u001b[0;32m/opt/anaconda3/lib/python3.7/site-packages/pandas/core/indexes/base.py\u001b[0m in \u001b[0;36mget_loc\u001b[0;34m(self, key, method, tolerance)\u001b[0m\n\u001b[1;32m   2890\u001b[0m             \u001b[0;32mtry\u001b[0m\u001b[0;34m:\u001b[0m\u001b[0;34m\u001b[0m\u001b[0;34m\u001b[0m\u001b[0m\n\u001b[0;32m-> 2891\u001b[0;31m                 \u001b[0;32mreturn\u001b[0m \u001b[0mself\u001b[0m\u001b[0;34m.\u001b[0m\u001b[0m_engine\u001b[0m\u001b[0;34m.\u001b[0m\u001b[0mget_loc\u001b[0m\u001b[0;34m(\u001b[0m\u001b[0mcasted_key\u001b[0m\u001b[0;34m)\u001b[0m\u001b[0;34m\u001b[0m\u001b[0;34m\u001b[0m\u001b[0m\n\u001b[0m\u001b[1;32m   2892\u001b[0m             \u001b[0;32mexcept\u001b[0m \u001b[0mKeyError\u001b[0m \u001b[0;32mas\u001b[0m \u001b[0merr\u001b[0m\u001b[0;34m:\u001b[0m\u001b[0;34m\u001b[0m\u001b[0;34m\u001b[0m\u001b[0m\n",
      "\u001b[0;32mpandas/_libs/index.pyx\u001b[0m in \u001b[0;36mpandas._libs.index.IndexEngine.get_loc\u001b[0;34m()\u001b[0m\n",
      "\u001b[0;32mpandas/_libs/index.pyx\u001b[0m in \u001b[0;36mpandas._libs.index.IndexEngine.get_loc\u001b[0;34m()\u001b[0m\n",
      "\u001b[0;32mpandas/_libs/hashtable_class_helper.pxi\u001b[0m in \u001b[0;36mpandas._libs.hashtable.PyObjectHashTable.get_item\u001b[0;34m()\u001b[0m\n",
      "\u001b[0;32mpandas/_libs/hashtable_class_helper.pxi\u001b[0m in \u001b[0;36mpandas._libs.hashtable.PyObjectHashTable.get_item\u001b[0;34m()\u001b[0m\n",
      "\u001b[0;31mKeyError\u001b[0m: 'Close Adj'",
      "\nThe above exception was the direct cause of the following exception:\n",
      "\u001b[0;31mKeyError\u001b[0m                                  Traceback (most recent call last)",
      "\u001b[0;32m<ipython-input-68-18a2f0404908>\u001b[0m in \u001b[0;36m<module>\u001b[0;34m\u001b[0m\n\u001b[0;32m----> 1\u001b[0;31m \u001b[0mclose_px\u001b[0m \u001b[0;34m=\u001b[0m \u001b[0mdf\u001b[0m\u001b[0;34m[\u001b[0m\u001b[0;34m'Close Adj'\u001b[0m\u001b[0;34m]\u001b[0m\u001b[0;34m\u001b[0m\u001b[0;34m\u001b[0m\u001b[0m\n\u001b[0m\u001b[1;32m      2\u001b[0m \u001b[0mmavg\u001b[0m \u001b[0;34m=\u001b[0m \u001b[0mclose_px\u001b[0m\u001b[0;34m.\u001b[0m\u001b[0mrolling\u001b[0m\u001b[0;34m(\u001b[0m\u001b[0mwindow\u001b[0m\u001b[0;34m=\u001b[0m\u001b[0;36m100\u001b[0m\u001b[0;34m)\u001b[0m\u001b[0;34m.\u001b[0m\u001b[0mmean\u001b[0m\u001b[0;34m(\u001b[0m\u001b[0;34m)\u001b[0m\u001b[0;34m\u001b[0m\u001b[0;34m\u001b[0m\u001b[0m\n\u001b[1;32m      3\u001b[0m \u001b[0mprint\u001b[0m\u001b[0;34m(\u001b[0m\u001b[0mmavg\u001b[0m\u001b[0;34m)\u001b[0m\u001b[0;34m\u001b[0m\u001b[0;34m\u001b[0m\u001b[0m\n",
      "\u001b[0;32m/opt/anaconda3/lib/python3.7/site-packages/pandas/core/frame.py\u001b[0m in \u001b[0;36m__getitem__\u001b[0;34m(self, key)\u001b[0m\n\u001b[1;32m   2900\u001b[0m             \u001b[0;32mif\u001b[0m \u001b[0mself\u001b[0m\u001b[0;34m.\u001b[0m\u001b[0mcolumns\u001b[0m\u001b[0;34m.\u001b[0m\u001b[0mnlevels\u001b[0m \u001b[0;34m>\u001b[0m \u001b[0;36m1\u001b[0m\u001b[0;34m:\u001b[0m\u001b[0;34m\u001b[0m\u001b[0;34m\u001b[0m\u001b[0m\n\u001b[1;32m   2901\u001b[0m                 \u001b[0;32mreturn\u001b[0m \u001b[0mself\u001b[0m\u001b[0;34m.\u001b[0m\u001b[0m_getitem_multilevel\u001b[0m\u001b[0;34m(\u001b[0m\u001b[0mkey\u001b[0m\u001b[0;34m)\u001b[0m\u001b[0;34m\u001b[0m\u001b[0;34m\u001b[0m\u001b[0m\n\u001b[0;32m-> 2902\u001b[0;31m             \u001b[0mindexer\u001b[0m \u001b[0;34m=\u001b[0m \u001b[0mself\u001b[0m\u001b[0;34m.\u001b[0m\u001b[0mcolumns\u001b[0m\u001b[0;34m.\u001b[0m\u001b[0mget_loc\u001b[0m\u001b[0;34m(\u001b[0m\u001b[0mkey\u001b[0m\u001b[0;34m)\u001b[0m\u001b[0;34m\u001b[0m\u001b[0;34m\u001b[0m\u001b[0m\n\u001b[0m\u001b[1;32m   2903\u001b[0m             \u001b[0;32mif\u001b[0m \u001b[0mis_integer\u001b[0m\u001b[0;34m(\u001b[0m\u001b[0mindexer\u001b[0m\u001b[0;34m)\u001b[0m\u001b[0;34m:\u001b[0m\u001b[0;34m\u001b[0m\u001b[0;34m\u001b[0m\u001b[0m\n\u001b[1;32m   2904\u001b[0m                 \u001b[0mindexer\u001b[0m \u001b[0;34m=\u001b[0m \u001b[0;34m[\u001b[0m\u001b[0mindexer\u001b[0m\u001b[0;34m]\u001b[0m\u001b[0;34m\u001b[0m\u001b[0;34m\u001b[0m\u001b[0m\n",
      "\u001b[0;32m/opt/anaconda3/lib/python3.7/site-packages/pandas/core/indexes/base.py\u001b[0m in \u001b[0;36mget_loc\u001b[0;34m(self, key, method, tolerance)\u001b[0m\n\u001b[1;32m   2891\u001b[0m                 \u001b[0;32mreturn\u001b[0m \u001b[0mself\u001b[0m\u001b[0;34m.\u001b[0m\u001b[0m_engine\u001b[0m\u001b[0;34m.\u001b[0m\u001b[0mget_loc\u001b[0m\u001b[0;34m(\u001b[0m\u001b[0mcasted_key\u001b[0m\u001b[0;34m)\u001b[0m\u001b[0;34m\u001b[0m\u001b[0;34m\u001b[0m\u001b[0m\n\u001b[1;32m   2892\u001b[0m             \u001b[0;32mexcept\u001b[0m \u001b[0mKeyError\u001b[0m \u001b[0;32mas\u001b[0m \u001b[0merr\u001b[0m\u001b[0;34m:\u001b[0m\u001b[0;34m\u001b[0m\u001b[0;34m\u001b[0m\u001b[0m\n\u001b[0;32m-> 2893\u001b[0;31m                 \u001b[0;32mraise\u001b[0m \u001b[0mKeyError\u001b[0m\u001b[0;34m(\u001b[0m\u001b[0mkey\u001b[0m\u001b[0;34m)\u001b[0m \u001b[0;32mfrom\u001b[0m \u001b[0merr\u001b[0m\u001b[0;34m\u001b[0m\u001b[0;34m\u001b[0m\u001b[0m\n\u001b[0m\u001b[1;32m   2894\u001b[0m \u001b[0;34m\u001b[0m\u001b[0m\n\u001b[1;32m   2895\u001b[0m         \u001b[0;32mif\u001b[0m \u001b[0mtolerance\u001b[0m \u001b[0;32mis\u001b[0m \u001b[0;32mnot\u001b[0m \u001b[0;32mNone\u001b[0m\u001b[0;34m:\u001b[0m\u001b[0;34m\u001b[0m\u001b[0;34m\u001b[0m\u001b[0m\n",
      "\u001b[0;31mKeyError\u001b[0m: 'Close Adj'"
     ]
    }
   ],
   "source": [
    "close_px = df['Close Adj']\n",
    "mavg = close_px.rolling(window=100).mean()\n",
    "print(mavg)"
   ]
  },
  {
   "cell_type": "code",
   "execution_count": 46,
   "metadata": {},
   "outputs": [
    {
     "data": {
      "text/plain": [
       "<matplotlib.legend.Legend at 0x1257104d0>"
      ]
     },
     "execution_count": 46,
     "metadata": {},
     "output_type": "execute_result"
    },
    {
     "data": {
      "image/png": "[encoded data removed]",
      "text/plain": [
       "<Figure size 576x504 with 1 Axes>"
      ]
     },
     "metadata": {},
     "output_type": "display_data"
    }
   ],
   "source": [
    "%matplotlib inline\n",
    "import matplotlib.pyplot as plt\n",
    "from matplotlib import style\n",
    "\n",
    "# Adjusting the size of matplotlib\n",
    "import matplotlib as mpl\n",
    "mpl.rc('figure', figsize=(8, 7))\n",
    "mpl.__version__\n",
    "\n",
    "# Adjusting the style of matplotlib\n",
    "style.use('ggplot')\n",
    "\n",
    "close_px.plot(label='BP')\n",
    "mavg.plot(label='mavg')\n",
    "plt.legend()"
   ]
  },
  {
   "cell_type": "code",
   "execution_count": 47,
   "metadata": {},
   "outputs": [
    {
     "data": {
      "application/vnd.plotly.v1+json": {
       "config": {
        "plotlyServerURL": "https://plot.ly"
       },
       "data": [
        {
         "close": [
          39.95000076293945,
          39.63999938964844,
          40.279998779296875,
          41.290000915527344,
          42.029998779296875,
          43.099998474121094,
          43.90999984741211,
          42.400001525878906,
          43.810001373291016,
          41.15999984741211,
          39.11000061035156,
          39.619998931884766,
          null,
          40.099998474121094,
          38.70000076293945,
          39.65999984741211,
          39.47999954223633,
          39.119998931884766,
          40.540000915527344,
          41.7599983215332,
          42.959999084472656,
          43.5,
          44.220001220703125,
          45.34000015258789,
          45.83000183105469,
          null,
          47.380001068115234,
          44.349998474121094,
          45.91999816894531,
          47.040000915527344,
          45.130001068115234,
          45.779998779296875,
          45.65999984741211,
          45.939998626708984,
          45.369998931884766,
          44.540000915527344,
          44.5099983215332,
          43.970001220703125,
          42.9900016784668,
          null,
          41.90999984741211,
          43.41999816894531,
          42.880001068115234,
          42.029998779296875,
          43.2599983215332,
          44.66999816894531,
          46.099998474121094,
          46.5,
          44.54999923706055,
          44,
          41.099998474121094,
          41.599998474121094,
          41.2400016784668,
          null,
          40.84000015258789,
          39.88999938964844,
          40.349998474121094,
          39.5099983215332,
          38.65999984741211,
          37.66999816894531,
          38.130001068115234,
          40.029998779296875,
          40.2400016784668,
          40.7599983215332,
          40.11000061035156,
          41.34000015258789,
          42.4900016784668,
          42.290000915527344,
          null,
          42.459999084472656,
          42.58000183105469,
          42.25,
          43.869998931884766,
          43.95000076293945,
          43.720001220703125,
          44.529998779296875,
          44.66999816894531,
          44.38999938964844,
          43.310001373291016,
          43.08000183105469,
          41.5,
          null,
          42.34000015258789,
          41.7599983215332,
          40.720001220703125,
          42.13999938964844,
          40.90999984741211,
          42.45000076293945,
          41.70000076293945,
          41.029998779296875,
          41.209999084472656,
          39.22999954223633,
          38.97999954223633,
          38.47999954223633,
          36.810001373291016,
          null,
          36.290000915527344,
          36.209999084472656,
          36.95000076293945,
          37.45000076293945,
          37.869998931884766,
          38.9900016784668,
          38.2599983215332,
          36.959999084472656,
          37.459999084472656,
          37.47999954223633,
          39.349998474121094,
          38.70000076293945,
          39.189998626708984,
          null,
          39.209999084472656,
          38.54999923706055,
          37.41999816894531,
          37.09000015258789,
          36.939998626708984,
          37.849998474121094,
          37.86000061035156,
          38.83000183105469,
          38.7400016784668,
          38.77000045776367,
          38.130001068115234,
          36.130001068115234,
          36.369998931884766,
          36,
          null,
          35.36000061035156,
          31.290000915527344,
          31.25,
          22.170000076293945,
          17.389999389648438,
          22.350000381469727,
          24.719999313354492,
          24.899999618530273,
          23.43000030517578,
          23.389999389648438,
          22.829999923706055,
          24.030000686645508,
          null,
          21.81999969482422,
          22.979999542236328,
          23.139999389648438,
          27.709999084472656,
          24.75,
          23.670000076293945,
          22.760000228881836,
          23.40999984741211,
          22.459999084472656,
          23.25,
          22.93000030517578,
          22.040000915527344,
          22.979999542236328,
          22.989999771118164,
          null,
          21.459999084472656,
          21.3799991607666,
          20.540000915527344,
          20.059999465942383,
          18.8799991607666,
          17.860000610351562,
          16.850000381469727,
          17.360000610351562,
          16.25,
          16.049999237060547,
          15.479999542236328,
          15.640000343322754,
          null,
          18.799999237060547,
          19.489999771118164,
          21.100000381469727,
          19.559999465942383
         ],
         "high": [
          40.11000061035156,
          40.2599983215332,
          40.849998474121094,
          41.7599983215332,
          42.22999954223633,
          43.16999816894531,
          43.9900016784668,
          43.099998474121094,
          44.619998931884766,
          43.650001525878906,
          41.0099983215332,
          40.43000030517578,
          null,
          40.130001068115234,
          40.41999816894531,
          39.81999969482422,
          40.20000076293945,
          40.29999923706055,
          40.66999816894531,
          42.38999938964844,
          43.27000045776367,
          43.9900016784668,
          44.88999938964844,
          45.5,
          46.849998474121094,
          null,
          47.439998626708984,
          47.83000183105469,
          46.209999084472656,
          47.56999969482422,
          47.31999969482422,
          46.16999816894531,
          46.16999816894531,
          46.47999954223633,
          47.25,
          44.810001373291016,
          45.11000061035156,
          45.40999984741211,
          45.099998474121094,
          null,
          43.099998474121094,
          43.70000076293945,
          43.91999816894531,
          42.959999084472656,
          43.52000045776367,
          44.95000076293945,
          47.15999984741211,
          47.04999923706055,
          46.22999954223633,
          44.88999938964844,
          43.68000030517578,
          43.959999084472656,
          43.380001068115234,
          null,
          41.72999954223633,
          41.560001373291016,
          40.970001220703125,
          41.470001220703125,
          39.90999984741211,
          39,
          38.66999816894531,
          40.08000183105469,
          40.7599983215332,
          40.91999816894531,
          40.40999984741211,
          41.66999816894531,
          43.40999984741211,
          42.849998474121094,
          null,
          42.7400016784668,
          43.02000045776367,
          42.790000915527344,
          44.27000045776367,
          44.970001220703125,
          44.290000915527344,
          44.599998474121094,
          45.380001068115234,
          44.90999984741211,
          45.290000915527344,
          44,
          43,
          null,
          42.61000061035156,
          43,
          41.7599983215332,
          42.36000061035156,
          42.61000061035156,
          42.70000076293945,
          42.400001525878906,
          42.630001068115234,
          41.470001220703125,
          41.08000183105469,
          39.810001373291016,
          40.22999954223633,
          37.779998779296875,
          null,
          37.34000015258789,
          36.95000076293945,
          37.16999816894531,
          37.72999954223633,
          38.400001525878906,
          39.849998474121094,
          38.95000076293945,
          38.380001068115234,
          37.59000015258789,
          37.880001068115234,
          39.61000061035156,
          39.79999923706055,
          40.0099983215332,
          null,
          39.52000045776367,
          39.279998779296875,
          38.66999816894531,
          37.61000061035156,
          37.439998626708984,
          38.04999923706055,
          38.25,
          39.09000015258789,
          40.08000183105469,
          39.06999969482422,
          38.5099983215332,
          37.689998626708984,
          37.779998779296875,
          37.220001220703125,
          null,
          36.400001525878906,
          34.2400016784668,
          33.18000030517578,
          27.229999542236328,
          19.81999969482422,
          25.399999618530273,
          27.549999237060547,
          25.940000534057617,
          25.440000534057617,
          23.889999389648438,
          25.469999313354492,
          24.729999542236328,
          null,
          23.829999923706055,
          23.920000076293945,
          24.18000030517578,
          27.940000534057617,
          28.56999969482422,
          25.209999084472656,
          24.469999313354492,
          23.860000610351562,
          23.93000030517578,
          24,
          24.479999542236328,
          23.229999542236328,
          24.530000686645508,
          24.610000610351562,
          null,
          23.079999923706055,
          22.219999313354492,
          21.420000076293945,
          20.709999084472656,
          20.25,
          18.979999542236328,
          18.350000381469727,
          17.739999771118164,
          17.280000686645508,
          16.450000762939453,
          16.040000915527344,
          16.579999923706055,
          null,
          19.6299991607666,
          20.270000457763672,
          22.100000381469727,
          20.639999389648438
         ],
         "low": [
          39.529998779296875,
          39.220001220703125,
          39.779998779296875,
          40.43000030517578,
          41.31999969482422,
          41.810001373291016,
          42.68000030517578,
          42.20000076293945,
          42.900001525878906,
          41.09000015258789,
          36.150001525878906,
          39.279998779296875,
          null,
          38.81999969482422,
          38.33000183105469,
          38.43000030517578,
          38.75,
          38.560001373291016,
          39.58000183105469,
          39.45000076293945,
          41.400001525878906,
          42.45000076293945,
          43.43000030517578,
          43.81999969482422,
          44.58000183105469,
          null,
          46.27000045776367,
          44.09000015258789,
          44.060001373291016,
          45.849998474121094,
          45.029998779296875,
          44.119998931884766,
          44.04999923706055,
          44.95000076293945,
          44.83000183105469,
          43.709999084472656,
          44.08000183105469,
          43.31999969482422,
          42.689998626708984,
          null,
          41.29999923706055,
          42.15999984741211,
          42.599998474121094,
          41.4900016784668,
          41.900001525878906,
          43.16999816894531,
          45.02000045776367,
          46.189998626708984,
          43.84000015258789,
          43.560001373291016,
          40.209999084472656,
          40.61000061035156,
          40.59000015258789,
          null,
          39.70000076293945,
          39.5,
          40.04999923706055,
          38.709999084472656,
          38.540000915527344,
          36.970001220703125,
          36.279998779296875,
          37.40999984741211,
          39.58000183105469,
          39.7400016784668,
          39.84000015258789,
          39.16999816894531,
          40.86000061035156,
          41.66999816894531,
          null,
          41.88999938964844,
          42.310001373291016,
          41.84000015258789,
          42.130001068115234,
          43.689998626708984,
          43.20000076293945,
          43.880001068115234,
          44.630001068115234,
          44.220001220703125,
          43,
          42.560001373291016,
          41.18000030517578,
          null,
          41.02000045776367,
          41.08000183105469,
          40.599998474121094,
          40.880001068115234,
          40.7599983215332,
          40.31999969482422,
          41.599998474121094,
          40.709999084472656,
          40.77000045776367,
          38.65999984741211,
          38.86000061035156,
          38.119998931884766,
          36.70000076293945,
          null,
          35.72999954223633,
          36.130001068115234,
          36.220001220703125,
          36.56999969482422,
          37.2599983215332,
          38.369998931884766,
          37.70000076293945,
          35.880001068115234,
          36.83000183105469,
          37.18000030517578,
          38.040000915527344,
          37.65999984741211,
          38.84000015258789,
          null,
          38.7599983215332,
          38.15999984741211,
          37.220001220703125,
          36.560001373291016,
          36.5,
          37.380001068115234,
          37.709999084472656,
          37.33000183105469,
          38.40999984741211,
          38.459999084472656,
          37.70000076293945,
          35.869998931884766,
          35.06999969482422,
          35.63999938964844,
          null,
          35.209999084472656,
          29.709999084472656,
          30.829999923706055,
          20.5,
          15.510000228881836,
          17.329999923706055,
          22.559999465942383,
          24.31999969482422,
          21.719999313354492,
          21.280000686645508,
          22.6299991607666,
          22.530000686645508,
          null,
          21.200000762939453,
          22.559999465942383,
          22.719999313354492,
          23.010000228881836,
          24.030000686645508,
          23.229999542236328,
          22.65999984741211,
          22.719999313354492,
          22.030000686645508,
          22.399999618530273,
          22.90999984741211,
          21.75,
          21.84000015258789,
          22.84000015258789,
          null,
          21.360000610351562,
          21.040000915527344,
          20.309999465942383,
          19.84000015258789,
          18.8700008392334,
          17.639999389648438,
          16.3799991607666,
          16.739999771118164,
          15.869999885559082,
          15.59000015258789,
          14.739999771118164,
          15.520000457763672,
          null,
          17.979999542236328,
          19.149999618530273,
          20.079999923706055,
          19.559999465942383
         ],
         "open": [
          39.93000030517578,
          39.83000183105469,
          39.790000915527344,
          40.52000045776367,
          41.349998474121094,
          42.060001373291016,
          42.9900016784668,
          42.880001068115234,
          42.90999984741211,
          43.56999969482422,
          40.779998779296875,
          39.61000061035156,
          null,
          39.95000076293945,
          40.380001068115234,
          38.470001220703125,
          39.68000030517578,
          39.220001220703125,
          40.33000183105469,
          40.529998779296875,
          41.630001068115234,
          42.75,
          43.599998474121094,
          43.83000183105469,
          45.66999816894531,
          null,
          46.54999923706055,
          47.380001068115234,
          44.189998626708984,
          46.31999969482422,
          46.959999084472656,
          45.029998779296875,
          44.91999816894531,
          45.279998779296875,
          46.06999969482422,
          44.45000076293945,
          44.68000030517578,
          44.90999984741211,
          43.83000183105469,
          null,
          42.849998474121094,
          42.22999954223633,
          43.59000015258789,
          42.79999923706055,
          42.16999816894531,
          43.47999954223633,
          45.380001068115234,
          46.93000030517578,
          45.36000061035156,
          44.709999084472656,
          43.54999923706055,
          41.810001373291016,
          42.560001373291016,
          null,
          41.68000030517578,
          40.79999923706055,
          40.63999938964844,
          41.189998626708984,
          39.31999969482422,
          38.90999984741211,
          37.7400016784668,
          38.209999084472656,
          39.70000076293945,
          40.150001525878906,
          40.099998474121094,
          39.47999954223633,
          41.18000030517578,
          42.220001220703125,
          null,
          41.88999938964844,
          42.560001373291016,
          42.619998931884766,
          42.18000030517578,
          43.91999816894531,
          43.810001373291016,
          44.2599983215332,
          44.93000030517578,
          44.880001068115234,
          44.7400016784668,
          42.810001373291016,
          42.61000061035156,
          null,
          41.529998779296875,
          42.58000183105469,
          41.63999938964844,
          41.2400016784668,
          42.150001525878906,
          40.45000076293945,
          42.16999816894531,
          42.619998931884766,
          40.97999954223633,
          41.04999923706055,
          39.34000015258789,
          39.09000015258789,
          37.47999954223633,
          null,
          36.86000061035156,
          36.72999954223633,
          36.540000915527344,
          36.689998626708984,
          37.560001373291016,
          39.849998474121094,
          38.68000030517578,
          38.11000061035156,
          37.11000061035156,
          37.279998779296875,
          38.08000183105469,
          39.779998779296875,
          39.470001220703125,
          null,
          38.79999923706055,
          39.130001068115234,
          38.52000045776367,
          37.52000045776367,
          37.040000915527344,
          37.47999954223633,
          37.709999084472656,
          37.79999923706055,
          39.68000030517578,
          38.619998931884766,
          38.5,
          37.52000045776367,
          35.900001525878906,
          36.18000030517578,
          null,
          35.75,
          33.939998626708984,
          31.549999237060547,
          24.829999923706055,
          19.049999237060547,
          17.989999771118164,
          23.260000228881836,
          24.709999084472656,
          25.43000030517578,
          22.260000228881836,
          23.139999389648438,
          22.68000030517578,
          null,
          23.56999969482422,
          23.309999465942383,
          23.350000381469727,
          23.149999618530273,
          28.450000762939453,
          23.469999313354492,
          23.700000762939453,
          23.31999969482422,
          23.670000076293945,
          22.649999618530273,
          23.229999542236328,
          22.989999771118164,
          21.969999313354492,
          23.329999923706055,
          null,
          23.020000457763672,
          21.920000076293945,
          21.389999389648438,
          20.3700008392334,
          20.1200008392334,
          18.309999465942383,
          18.229999542236328,
          16.969999313354492,
          17.200000762939453,
          16.209999084472656,
          16.020000457763672,
          15.819999694824219,
          null,
          18.479999542236328,
          19.969999313354492,
          20.190000534057617,
          20.600000381469727
         ],
         "type": "ohlc",
         "x": [
          "2017-11-27T00:00:00",
          "2017-12-04T00:00:00",
          "2017-12-11T00:00:00",
          "2017-12-18T00:00:00",
          "2017-12-25T00:00:00",
          "2018-01-01T00:00:00",
          "2018-01-08T00:00:00",
          "2018-01-15T00:00:00",
          "2018-01-22T00:00:00",
          "2018-01-29T00:00:00",
          "2018-02-05T00:00:00",
          "2018-02-12T00:00:00",
          "2018-02-15T00:00:00",
          "2018-02-19T00:00:00",
          "2018-02-26T00:00:00",
          "2018-03-05T00:00:00",
          "2018-03-12T00:00:00",
          "2018-03-19T00:00:00",
          "2018-03-26T00:00:00",
          "2018-04-02T00:00:00",
          "2018-04-09T00:00:00",
          "2018-04-16T00:00:00",
          "2018-04-23T00:00:00",
          "2018-04-30T00:00:00",
          "2018-05-07T00:00:00",
          "2018-05-10T00:00:00",
          "2018-05-14T00:00:00",
          "2018-05-21T00:00:00",
          "2018-05-28T00:00:00",
          "2018-06-04T00:00:00",
          "2018-06-11T00:00:00",
          "2018-06-18T00:00:00",
          "2018-06-25T00:00:00",
          "2018-07-02T00:00:00",
          "2018-07-09T00:00:00",
          "2018-07-16T00:00:00",
          "2018-07-23T00:00:00",
          "2018-07-30T00:00:00",
          "2018-08-06T00:00:00",
          "2018-08-09T00:00:00",
          "2018-08-13T00:00:00",
          "2018-08-20T00:00:00",
          "2018-08-27T00:00:00",
          "2018-09-03T00:00:00",
          "2018-09-10T00:00:00",
          "2018-09-17T00:00:00",
          "2018-09-24T00:00:00",
          "2018-10-01T00:00:00",
          "2018-10-08T00:00:00",
          "2018-10-15T00:00:00",
          "2018-10-22T00:00:00",
          "2018-10-29T00:00:00",
          "2018-11-05T00:00:00",
          "2018-11-08T00:00:00",
          "2018-11-12T00:00:00",
          "2018-11-19T00:00:00",
          "2018-11-26T00:00:00",
          "2018-12-03T00:00:00",
          "2018-12-10T00:00:00",
          "2018-12-17T00:00:00",
          "2018-12-24T00:00:00",
          "2018-12-31T00:00:00",
          "2019-01-07T00:00:00",
          "2019-01-14T00:00:00",
          "2019-01-21T00:00:00",
          "2019-01-28T00:00:00",
          "2019-02-04T00:00:00",
          "2019-02-11T00:00:00",
          "2019-02-14T00:00:00",
          "2019-02-18T00:00:00",
          "2019-02-25T00:00:00",
          "2019-03-04T00:00:00",
          "2019-03-11T00:00:00",
          "2019-03-18T00:00:00",
          "2019-03-25T00:00:00",
          "2019-04-01T00:00:00",
          "2019-04-08T00:00:00",
          "2019-04-15T00:00:00",
          "2019-04-22T00:00:00",
          "2019-04-29T00:00:00",
          "2019-05-06T00:00:00",
          "2019-05-09T00:00:00",
          "2019-05-13T00:00:00",
          "2019-05-20T00:00:00",
          "2019-05-27T00:00:00",
          "2019-06-03T00:00:00",
          "2019-06-10T00:00:00",
          "2019-06-17T00:00:00",
          "2019-06-24T00:00:00",
          "2019-07-01T00:00:00",
          "2019-07-08T00:00:00",
          "2019-07-15T00:00:00",
          "2019-07-22T00:00:00",
          "2019-07-29T00:00:00",
          "2019-08-05T00:00:00",
          "2019-08-08T00:00:00",
          "2019-08-12T00:00:00",
          "2019-08-19T00:00:00",
          "2019-08-26T00:00:00",
          "2019-09-02T00:00:00",
          "2019-09-09T00:00:00",
          "2019-09-16T00:00:00",
          "2019-09-23T00:00:00",
          "2019-09-30T00:00:00",
          "2019-10-07T00:00:00",
          "2019-10-14T00:00:00",
          "2019-10-21T00:00:00",
          "2019-10-28T00:00:00",
          "2019-11-04T00:00:00",
          "2019-11-07T00:00:00",
          "2019-11-11T00:00:00",
          "2019-11-18T00:00:00",
          "2019-11-25T00:00:00",
          "2019-12-02T00:00:00",
          "2019-12-09T00:00:00",
          "2019-12-16T00:00:00",
          "2019-12-23T00:00:00",
          "2019-12-30T00:00:00",
          "2020-01-06T00:00:00",
          "2020-01-13T00:00:00",
          "2020-01-20T00:00:00",
          "2020-01-27T00:00:00",
          "2020-02-03T00:00:00",
          "2020-02-10T00:00:00",
          "2020-02-13T00:00:00",
          "2020-02-17T00:00:00",
          "2020-02-24T00:00:00",
          "2020-03-02T00:00:00",
          "2020-03-09T00:00:00",
          "2020-03-16T00:00:00",
          "2020-03-23T00:00:00",
          "2020-03-30T00:00:00",
          "2020-04-06T00:00:00",
          "2020-04-13T00:00:00",
          "2020-04-20T00:00:00",
          "2020-04-27T00:00:00",
          "2020-05-04T00:00:00",
          "2020-05-08T00:00:00",
          "2020-05-11T00:00:00",
          "2020-05-18T00:00:00",
          "2020-05-25T00:00:00",
          "2020-06-01T00:00:00",
          "2020-06-08T00:00:00",
          "2020-06-15T00:00:00",
          "2020-06-22T00:00:00",
          "2020-06-29T00:00:00",
          "2020-07-06T00:00:00",
          "2020-07-13T00:00:00",
          "2020-07-20T00:00:00",
          "2020-07-27T00:00:00",
          "2020-08-03T00:00:00",
          "2020-08-10T00:00:00",
          "2020-08-13T00:00:00",
          "2020-08-17T00:00:00",
          "2020-08-24T00:00:00",
          "2020-08-31T00:00:00",
          "2020-09-07T00:00:00",
          "2020-09-14T00:00:00",
          "2020-09-21T00:00:00",
          "2020-09-28T00:00:00",
          "2020-10-05T00:00:00",
          "2020-10-12T00:00:00",
          "2020-10-19T00:00:00",
          "2020-10-26T00:00:00",
          "2020-11-02T00:00:00",
          "2020-11-05T00:00:00",
          "2020-11-09T00:00:00",
          "2020-11-16T00:00:00",
          "2020-11-23T00:00:00",
          "2020-11-30T00:00:00"
         ]
        }
       ],
       "layout": {
        "template": {
         "data": {
          "bar": [
           {
            "error_x": {
             "color": "#2a3f5f"
            },
            "error_y": {
             "color": "#2a3f5f"
            },
            "marker": {
             "line": {
              "color": "#E5ECF6",
              "width": 0.5
             }
            },
            "type": "bar"
           }
          ],
          "barpolar": [
           {
            "marker": {
             "line": {
              "color": "#E5ECF6",
              "width": 0.5
             }
            },
            "type": "barpolar"
           }
          ],
          "carpet": [
           {
            "aaxis": {
             "endlinecolor": "#2a3f5f",
             "gridcolor": "white",
             "linecolor": "white",
             "minorgridcolor": "white",
             "startlinecolor": "#2a3f5f"
            },
            "baxis": {
             "endlinecolor": "#2a3f5f",
             "gridcolor": "white",
             "linecolor": "white",
             "minorgridcolor": "white",
             "startlinecolor": "#2a3f5f"
            },
            "type": "carpet"
           }
          ],
          "choropleth": [
           {
            "colorbar": {
             "outlinewidth": 0,
             "ticks": ""
            },
            "type": "choropleth"
           }
          ],
          "contour": [
           {
            "colorbar": {
             "outlinewidth": 0,
             "ticks": ""
            },
            "colorscale": [
             [
              0,
              "#0d0887"
             ],
             [
              0.1111111111111111,
              "#46039f"
             ],
             [
              0.2222222222222222,
              "#7201a8"
             ],
             [
              0.3333333333333333,
              "#9c179e"
             ],
             [
              0.4444444444444444,
              "#bd3786"
             ],
             [
              0.5555555555555556,
              "#d8576b"
             ],
             [
              0.6666666666666666,
              "#ed7953"
             ],
             [
              0.7777777777777778,
              "#fb9f3a"
             ],
             [
              0.8888888888888888,
              "#fdca26"
             ],
             [
              1,
              "#f0f921"
             ]
            ],
            "type": "contour"
           }
          ],
          "contourcarpet": [
           {
            "colorbar": {
             "outlinewidth": 0,
             "ticks": ""
            },
            "type": "contourcarpet"
           }
          ],
          "heatmap": [
           {
            "colorbar": {
             "outlinewidth": 0,
             "ticks": ""
            },
            "colorscale": [
             [
              0,
              "#0d0887"
             ],
             [
              0.1111111111111111,
              "#46039f"
             ],
             [
              0.2222222222222222,
              "#7201a8"
             ],
             [
              0.3333333333333333,
              "#9c179e"
             ],
             [
              0.4444444444444444,
              "#bd3786"
             ],
             [
              0.5555555555555556,
              "#d8576b"
             ],
             [
              0.6666666666666666,
              "#ed7953"
             ],
             [
              0.7777777777777778,
              "#fb9f3a"
             ],
             [
              0.8888888888888888,
              "#fdca26"
             ],
             [
              1,
              "#f0f921"
             ]
            ],
            "type": "heatmap"
           }
          ],
          "heatmapgl": [
           {
            "colorbar": {
             "outlinewidth": 0,
             "ticks": ""
            },
            "colorscale": [
             [
              0,
              "#0d0887"
             ],
             [
              0.1111111111111111,
              "#46039f"
             ],
             [
              0.2222222222222222,
              "#7201a8"
             ],
             [
              0.3333333333333333,
              "#9c179e"
             ],
             [
              0.4444444444444444,
              "#bd3786"
             ],
             [
              0.5555555555555556,
              "#d8576b"
             ],
             [
              0.6666666666666666,
              "#ed7953"
             ],
             [
              0.7777777777777778,
              "#fb9f3a"
             ],
             [
              0.8888888888888888,
              "#fdca26"
             ],
             [
              1,
              "#f0f921"
             ]
            ],
            "type": "heatmapgl"
           }
          ],
          "histogram": [
           {
            "marker": {
             "colorbar": {
              "outlinewidth": 0,
              "ticks": ""
             }
            },
            "type": "histogram"
           }
          ],
          "histogram2d": [
           {
            "colorbar": {
             "outlinewidth": 0,
             "ticks": ""
            },
            "colorscale": [
             [
              0,
              "#0d0887"
             ],
             [
              0.1111111111111111,
              "#46039f"
             ],
             [
              0.2222222222222222,
              "#7201a8"
             ],
             [
              0.3333333333333333,
              "#9c179e"
             ],
             [
              0.4444444444444444,
              "#bd3786"
             ],
             [
              0.5555555555555556,
              "#d8576b"
             ],
             [
              0.6666666666666666,
              "#ed7953"
             ],
             [
              0.7777777777777778,
              "#fb9f3a"
             ],
             [
              0.8888888888888888,
              "#fdca26"
             ],
             [
              1,
              "#f0f921"
             ]
            ],
            "type": "histogram2d"
           }
          ],
          "histogram2dcontour": [
           {
            "colorbar": {
             "outlinewidth": 0,
             "ticks": ""
            },
            "colorscale": [
             [
              0,
              "#0d0887"
             ],
             [
              0.1111111111111111,
              "#46039f"
             ],
             [
              0.2222222222222222,
              "#7201a8"
             ],
             [
              0.3333333333333333,
              "#9c179e"
             ],
             [
              0.4444444444444444,
              "#bd3786"
             ],
             [
              0.5555555555555556,
              "#d8576b"
             ],
             [
              0.6666666666666666,
              "#ed7953"
             ],
             [
              0.7777777777777778,
              "#fb9f3a"
             ],
             [
              0.8888888888888888,
              "#fdca26"
             ],
             [
              1,
              "#f0f921"
             ]
            ],
            "type": "histogram2dcontour"
           }
          ],
          "mesh3d": [
           {
            "colorbar": {
             "outlinewidth": 0,
             "ticks": ""
            },
            "type": "mesh3d"
           }
          ],
          "parcoords": [
           {
            "line": {
             "colorbar": {
              "outlinewidth": 0,
              "ticks": ""
             }
            },
            "type": "parcoords"
           }
          ],
          "pie": [
           {
            "automargin": true,
            "type": "pie"
           }
          ],
          "scatter": [
           {
            "marker": {
             "colorbar": {
              "outlinewidth": 0,
              "ticks": ""
             }
            },
            "type": "scatter"
           }
          ],
          "scatter3d": [
           {
            "line": {
             "colorbar": {
              "outlinewidth": 0,
              "ticks": ""
             }
            },
            "marker": {
             "colorbar": {
              "outlinewidth": 0,
              "ticks": ""
             }
            },
            "type": "scatter3d"
           }
          ],
          "scattercarpet": [
           {
            "marker": {
             "colorbar": {
              "outlinewidth": 0,
              "ticks": ""
             }
            },
            "type": "scattercarpet"
           }
          ],
          "scattergeo": [
           {
            "marker": {
             "colorbar": {
              "outlinewidth": 0,
              "ticks": ""
             }
            },
            "type": "scattergeo"
           }
          ],
          "scattergl": [
           {
            "marker": {
             "colorbar": {
              "outlinewidth": 0,
              "ticks": ""
             }
            },
            "type": "scattergl"
           }
          ],
          "scattermapbox": [
           {
            "marker": {
             "colorbar": {
              "outlinewidth": 0,
              "ticks": ""
             }
            },
            "type": "scattermapbox"
           }
          ],
          "scatterpolar": [
           {
            "marker": {
             "colorbar": {
              "outlinewidth": 0,
              "ticks": ""
             }
            },
            "type": "scatterpolar"
           }
          ],
          "scatterpolargl": [
           {
            "marker": {
             "colorbar": {
              "outlinewidth": 0,
              "ticks": ""
             }
            },
            "type": "scatterpolargl"
           }
          ],
          "scatterternary": [
           {
            "marker": {
             "colorbar": {
              "outlinewidth": 0,
              "ticks": ""
             }
            },
            "type": "scatterternary"
           }
          ],
          "surface": [
           {
            "colorbar": {
             "outlinewidth": 0,
             "ticks": ""
            },
            "colorscale": [
             [
              0,
              "#0d0887"
             ],
             [
              0.1111111111111111,
              "#46039f"
             ],
             [
              0.2222222222222222,
              "#7201a8"
             ],
             [
              0.3333333333333333,
              "#9c179e"
             ],
             [
              0.4444444444444444,
              "#bd3786"
             ],
             [
              0.5555555555555556,
              "#d8576b"
             ],
             [
              0.6666666666666666,
              "#ed7953"
             ],
             [
              0.7777777777777778,
              "#fb9f3a"
             ],
             [
              0.8888888888888888,
              "#fdca26"
             ],
             [
              1,
              "#f0f921"
             ]
            ],
            "type": "surface"
           }
          ],
          "table": [
           {
            "cells": {
             "fill": {
              "color": "#EBF0F8"
             },
             "line": {
              "color": "white"
             }
            },
            "header": {
             "fill": {
              "color": "#C8D4E3"
             },
             "line": {
              "color": "white"
             }
            },
            "type": "table"
           }
          ]
         },
         "layout": {
          "annotationdefaults": {
           "arrowcolor": "#2a3f5f",
           "arrowhead": 0,
           "arrowwidth": 1
          },
          "coloraxis": {
           "colorbar": {
            "outlinewidth": 0,
            "ticks": ""
           }
          },
          "colorscale": {
           "diverging": [
            [
             0,
             "#8e0152"
            ],
            [
             0.1,
             "#c51b7d"
            ],
            [
             0.2,
             "#de77ae"
            ],
            [
             0.3,
             "#f1b6da"
            ],
            [
             0.4,
             "#fde0ef"
            ],
            [
             0.5,
             "#f7f7f7"
            ],
            [
             0.6,
             "#e6f5d0"
            ],
            [
             0.7,
             "#b8e186"
            ],
            [
             0.8,
             "#7fbc41"
            ],
            [
             0.9,
             "#4d9221"
            ],
            [
             1,
             "#276419"
            ]
           ],
           "sequential": [
            [
             0,
             "#0d0887"
            ],
            [
             0.1111111111111111,
             "#46039f"
            ],
            [
             0.2222222222222222,
             "#7201a8"
            ],
            [
             0.3333333333333333,
             "#9c179e"
            ],
            [
             0.4444444444444444,
             "#bd3786"
            ],
            [
             0.5555555555555556,
             "#d8576b"
            ],
            [
             0.6666666666666666,
             "#ed7953"
            ],
            [
             0.7777777777777778,
             "#fb9f3a"
            ],
            [
             0.8888888888888888,
             "#fdca26"
            ],
            [
             1,
             "#f0f921"
            ]
           ],
           "sequentialminus": [
            [
             0,
             "#0d0887"
            ],
            [
             0.1111111111111111,
             "#46039f"
            ],
            [
             0.2222222222222222,
             "#7201a8"
            ],
            [
             0.3333333333333333,
             "#9c179e"
            ],
            [
             0.4444444444444444,
             "#bd3786"
            ],
            [
             0.5555555555555556,
             "#d8576b"
            ],
            [
             0.6666666666666666,
             "#ed7953"
            ],
            [
             0.7777777777777778,
             "#fb9f3a"
            ],
            [
             0.8888888888888888,
             "#fdca26"
            ],
            [
             1,
             "#f0f921"
            ]
           ]
          },
          "colorway": [
           "#636efa",
           "#EF553B",
           "#00cc96",
           "#ab63fa",
           "#FFA15A",
           "#19d3f3",
           "#FF6692",
           "#B6E880",
           "#FF97FF",
           "#FECB52"
          ],
          "font": {
           "color": "#2a3f5f"
          },
          "geo": {
           "bgcolor": "white",
           "lakecolor": "white",
           "landcolor": "#E5ECF6",
           "showlakes": true,
           "showland": true,
           "subunitcolor": "white"
          },
          "hoverlabel": {
           "align": "left"
          },
          "hovermode": "closest",
          "mapbox": {
           "style": "light"
          },
          "paper_bgcolor": "white",
          "plot_bgcolor": "#E5ECF6",
          "polar": {
           "angularaxis": {
            "gridcolor": "white",
            "linecolor": "white",
            "ticks": ""
           },
           "bgcolor": "#E5ECF6",
           "radialaxis": {
            "gridcolor": "white",
            "linecolor": "white",
            "ticks": ""
           }
          },
          "scene": {
           "xaxis": {
            "backgroundcolor": "#E5ECF6",
            "gridcolor": "white",
            "gridwidth": 2,
            "linecolor": "white",
            "showbackground": true,
            "ticks": "",
            "zerolinecolor": "white"
           },
           "yaxis": {
            "backgroundcolor": "#E5ECF6",
            "gridcolor": "white",
            "gridwidth": 2,
            "linecolor": "white",
            "showbackground": true,
            "ticks": "",
            "zerolinecolor": "white"
           },
           "zaxis": {
            "backgroundcolor": "#E5ECF6",
            "gridcolor": "white",
            "gridwidth": 2,
            "linecolor": "white",
            "showbackground": true,
            "ticks": "",
            "zerolinecolor": "white"
           }
          },
          "shapedefaults": {
           "line": {
            "color": "#2a3f5f"
           }
          },
          "ternary": {
           "aaxis": {
            "gridcolor": "white",
            "linecolor": "white",
            "ticks": ""
           },
           "baxis": {
            "gridcolor": "white",
            "linecolor": "white",
            "ticks": ""
           },
           "bgcolor": "#E5ECF6",
           "caxis": {
            "gridcolor": "white",
            "linecolor": "white",
            "ticks": ""
           }
          },
          "title": {
           "x": 0.05
          },
          "xaxis": {
           "automargin": true,
           "gridcolor": "white",
           "linecolor": "white",
           "ticks": "",
           "title": {
            "standoff": 15
           },
           "zerolinecolor": "white",
           "zerolinewidth": 2
          },
          "yaxis": {
           "automargin": true,
           "gridcolor": "white",
           "linecolor": "white",
           "ticks": "",
           "title": {
            "standoff": 15
           },
           "zerolinecolor": "white",
           "zerolinewidth": 2
          }
         }
        }
       }
      },
      "text/html": [
       "<div>                            <div id=\"15785457-b2a5-4fba-b851-19a41fc45f2e\" class=\"plotly-graph-div\" style=\"height:525px; width:100%;\"></div>            <script type=\"text/javascript\">                require([\"plotly\"], function(Plotly) {                    window.PLOTLYENV=window.PLOTLYENV || {};                                    if (document.getElementById(\"15785457-b2a5-4fba-b851-19a41fc45f2e\")) {                    Plotly.newPlot(                        \"15785457-b2a5-4fba-b851-19a41fc45f2e\",                        [{\"close\": [39.95000076293945, 39.63999938964844, 40.279998779296875, 41.290000915527344, 42.029998779296875, 43.099998474121094, 43.90999984741211, 42.400001525878906, 43.810001373291016, 41.15999984741211, 39.11000061035156, 39.619998931884766, null, 40.099998474121094, 38.70000076293945, 39.65999984741211, 39.47999954223633, 39.119998931884766, 40.540000915527344, 41.7599983215332, 42.959999084472656, 43.5, 44.220001220703125, 45.34000015258789, 45.83000183105469, null, 47.380001068115234, 44.349998474121094, 45.91999816894531, 47.040000915527344, 45.130001068115234, 45.779998779296875, 45.65999984741211, 45.939998626708984, 45.369998931884766, 44.540000915527344, 44.5099983215332, 43.970001220703125, 42.9900016784668, null, 41.90999984741211, 43.41999816894531, 42.880001068115234, 42.029998779296875, 43.2599983215332, 44.66999816894531, 46.099998474121094, 46.5, 44.54999923706055, 44.0, 41.099998474121094, 41.599998474121094, 41.2400016784668, null, 40.84000015258789, 39.88999938964844, 40.349998474121094, 39.5099983215332, 38.65999984741211, 37.66999816894531, 38.130001068115234, 40.029998779296875, 40.2400016784668, 40.7599983215332, 40.11000061035156, 41.34000015258789, 42.4900016784668, 42.290000915527344, null, 42.459999084472656, 42.58000183105469, 42.25, 43.869998931884766, 43.95000076293945, 43.720001220703125, 44.529998779296875, 44.66999816894531, 44.38999938964844, 43.310001373291016, 43.08000183105469, 41.5, null, 42.34000015258789, 41.7599983215332, 40.720001220703125, 42.13999938964844, 40.90999984741211, 42.45000076293945, 41.70000076293945, 41.029998779296875, 41.209999084472656, 39.22999954223633, 38.97999954223633, 38.47999954223633, 36.810001373291016, null, 36.290000915527344, 36.209999084472656, 36.95000076293945, 37.45000076293945, 37.869998931884766, 38.9900016784668, 38.2599983215332, 36.959999084472656, 37.459999084472656, 37.47999954223633, 39.349998474121094, 38.70000076293945, 39.189998626708984, null, 39.209999084472656, 38.54999923706055, 37.41999816894531, 37.09000015258789, 36.939998626708984, 37.849998474121094, 37.86000061035156, 38.83000183105469, 38.7400016784668, 38.77000045776367, 38.130001068115234, 36.130001068115234, 36.369998931884766, 36.0, null, 35.36000061035156, 31.290000915527344, 31.25, 22.170000076293945, 17.389999389648438, 22.350000381469727, 24.719999313354492, 24.899999618530273, 23.43000030517578, 23.389999389648438, 22.829999923706055, 24.030000686645508, null, 21.81999969482422, 22.979999542236328, 23.139999389648438, 27.709999084472656, 24.75, 23.670000076293945, 22.760000228881836, 23.40999984741211, 22.459999084472656, 23.25, 22.93000030517578, 22.040000915527344, 22.979999542236328, 22.989999771118164, null, 21.459999084472656, 21.3799991607666, 20.540000915527344, 20.059999465942383, 18.8799991607666, 17.860000610351562, 16.850000381469727, 17.360000610351562, 16.25, 16.049999237060547, 15.479999542236328, 15.640000343322754, null, 18.799999237060547, 19.489999771118164, 21.100000381469727, 19.559999465942383], \"high\": [40.11000061035156, 40.2599983215332, 40.849998474121094, 41.7599983215332, 42.22999954223633, 43.16999816894531, 43.9900016784668, 43.099998474121094, 44.619998931884766, 43.650001525878906, 41.0099983215332, 40.43000030517578, null, 40.130001068115234, 40.41999816894531, 39.81999969482422, 40.20000076293945, 40.29999923706055, 40.66999816894531, 42.38999938964844, 43.27000045776367, 43.9900016784668, 44.88999938964844, 45.5, 46.849998474121094, null, 47.439998626708984, 47.83000183105469, 46.209999084472656, 47.56999969482422, 47.31999969482422, 46.16999816894531, 46.16999816894531, 46.47999954223633, 47.25, 44.810001373291016, 45.11000061035156, 45.40999984741211, 45.099998474121094, null, 43.099998474121094, 43.70000076293945, 43.91999816894531, 42.959999084472656, 43.52000045776367, 44.95000076293945, 47.15999984741211, 47.04999923706055, 46.22999954223633, 44.88999938964844, 43.68000030517578, 43.959999084472656, 43.380001068115234, null, 41.72999954223633, 41.560001373291016, 40.970001220703125, 41.470001220703125, 39.90999984741211, 39.0, 38.66999816894531, 40.08000183105469, 40.7599983215332, 40.91999816894531, 40.40999984741211, 41.66999816894531, 43.40999984741211, 42.849998474121094, null, 42.7400016784668, 43.02000045776367, 42.790000915527344, 44.27000045776367, 44.970001220703125, 44.290000915527344, 44.599998474121094, 45.380001068115234, 44.90999984741211, 45.290000915527344, 44.0, 43.0, null, 42.61000061035156, 43.0, 41.7599983215332, 42.36000061035156, 42.61000061035156, 42.70000076293945, 42.400001525878906, 42.630001068115234, 41.470001220703125, 41.08000183105469, 39.810001373291016, 40.22999954223633, 37.779998779296875, null, 37.34000015258789, 36.95000076293945, 37.16999816894531, 37.72999954223633, 38.400001525878906, 39.849998474121094, 38.95000076293945, 38.380001068115234, 37.59000015258789, 37.880001068115234, 39.61000061035156, 39.79999923706055, 40.0099983215332, null, 39.52000045776367, 39.279998779296875, 38.66999816894531, 37.61000061035156, 37.439998626708984, 38.04999923706055, 38.25, 39.09000015258789, 40.08000183105469, 39.06999969482422, 38.5099983215332, 37.689998626708984, 37.779998779296875, 37.220001220703125, null, 36.400001525878906, 34.2400016784668, 33.18000030517578, 27.229999542236328, 19.81999969482422, 25.399999618530273, 27.549999237060547, 25.940000534057617, 25.440000534057617, 23.889999389648438, 25.469999313354492, 24.729999542236328, null, 23.829999923706055, 23.920000076293945, 24.18000030517578, 27.940000534057617, 28.56999969482422, 25.209999084472656, 24.469999313354492, 23.860000610351562, 23.93000030517578, 24.0, 24.479999542236328, 23.229999542236328, 24.530000686645508, 24.610000610351562, null, 23.079999923706055, 22.219999313354492, 21.420000076293945, 20.709999084472656, 20.25, 18.979999542236328, 18.350000381469727, 17.739999771118164, 17.280000686645508, 16.450000762939453, 16.040000915527344, 16.579999923706055, null, 19.6299991607666, 20.270000457763672, 22.100000381469727, 20.639999389648438], \"low\": [39.529998779296875, 39.220001220703125, 39.779998779296875, 40.43000030517578, 41.31999969482422, 41.810001373291016, 42.68000030517578, 42.20000076293945, 42.900001525878906, 41.09000015258789, 36.150001525878906, 39.279998779296875, null, 38.81999969482422, 38.33000183105469, 38.43000030517578, 38.75, 38.560001373291016, 39.58000183105469, 39.45000076293945, 41.400001525878906, 42.45000076293945, 43.43000030517578, 43.81999969482422, 44.58000183105469, null, 46.27000045776367, 44.09000015258789, 44.060001373291016, 45.849998474121094, 45.029998779296875, 44.119998931884766, 44.04999923706055, 44.95000076293945, 44.83000183105469, 43.709999084472656, 44.08000183105469, 43.31999969482422, 42.689998626708984, null, 41.29999923706055, 42.15999984741211, 42.599998474121094, 41.4900016784668, 41.900001525878906, 43.16999816894531, 45.02000045776367, 46.189998626708984, 43.84000015258789, 43.560001373291016, 40.209999084472656, 40.61000061035156, 40.59000015258789, null, 39.70000076293945, 39.5, 40.04999923706055, 38.709999084472656, 38.540000915527344, 36.970001220703125, 36.279998779296875, 37.40999984741211, 39.58000183105469, 39.7400016784668, 39.84000015258789, 39.16999816894531, 40.86000061035156, 41.66999816894531, null, 41.88999938964844, 42.310001373291016, 41.84000015258789, 42.130001068115234, 43.689998626708984, 43.20000076293945, 43.880001068115234, 44.630001068115234, 44.220001220703125, 43.0, 42.560001373291016, 41.18000030517578, null, 41.02000045776367, 41.08000183105469, 40.599998474121094, 40.880001068115234, 40.7599983215332, 40.31999969482422, 41.599998474121094, 40.709999084472656, 40.77000045776367, 38.65999984741211, 38.86000061035156, 38.119998931884766, 36.70000076293945, null, 35.72999954223633, 36.130001068115234, 36.220001220703125, 36.56999969482422, 37.2599983215332, 38.369998931884766, 37.70000076293945, 35.880001068115234, 36.83000183105469, 37.18000030517578, 38.040000915527344, 37.65999984741211, 38.84000015258789, null, 38.7599983215332, 38.15999984741211, 37.220001220703125, 36.560001373291016, 36.5, 37.380001068115234, 37.709999084472656, 37.33000183105469, 38.40999984741211, 38.459999084472656, 37.70000076293945, 35.869998931884766, 35.06999969482422, 35.63999938964844, null, 35.209999084472656, 29.709999084472656, 30.829999923706055, 20.5, 15.510000228881836, 17.329999923706055, 22.559999465942383, 24.31999969482422, 21.719999313354492, 21.280000686645508, 22.6299991607666, 22.530000686645508, null, 21.200000762939453, 22.559999465942383, 22.719999313354492, 23.010000228881836, 24.030000686645508, 23.229999542236328, 22.65999984741211, 22.719999313354492, 22.030000686645508, 22.399999618530273, 22.90999984741211, 21.75, 21.84000015258789, 22.84000015258789, null, 21.360000610351562, 21.040000915527344, 20.309999465942383, 19.84000015258789, 18.8700008392334, 17.639999389648438, 16.3799991607666, 16.739999771118164, 15.869999885559082, 15.59000015258789, 14.739999771118164, 15.520000457763672, null, 17.979999542236328, 19.149999618530273, 20.079999923706055, 19.559999465942383], \"open\": [39.93000030517578, 39.83000183105469, 39.790000915527344, 40.52000045776367, 41.349998474121094, 42.060001373291016, 42.9900016784668, 42.880001068115234, 42.90999984741211, 43.56999969482422, 40.779998779296875, 39.61000061035156, null, 39.95000076293945, 40.380001068115234, 38.470001220703125, 39.68000030517578, 39.220001220703125, 40.33000183105469, 40.529998779296875, 41.630001068115234, 42.75, 43.599998474121094, 43.83000183105469, 45.66999816894531, null, 46.54999923706055, 47.380001068115234, 44.189998626708984, 46.31999969482422, 46.959999084472656, 45.029998779296875, 44.91999816894531, 45.279998779296875, 46.06999969482422, 44.45000076293945, 44.68000030517578, 44.90999984741211, 43.83000183105469, null, 42.849998474121094, 42.22999954223633, 43.59000015258789, 42.79999923706055, 42.16999816894531, 43.47999954223633, 45.380001068115234, 46.93000030517578, 45.36000061035156, 44.709999084472656, 43.54999923706055, 41.810001373291016, 42.560001373291016, null, 41.68000030517578, 40.79999923706055, 40.63999938964844, 41.189998626708984, 39.31999969482422, 38.90999984741211, 37.7400016784668, 38.209999084472656, 39.70000076293945, 40.150001525878906, 40.099998474121094, 39.47999954223633, 41.18000030517578, 42.220001220703125, null, 41.88999938964844, 42.560001373291016, 42.619998931884766, 42.18000030517578, 43.91999816894531, 43.810001373291016, 44.2599983215332, 44.93000030517578, 44.880001068115234, 44.7400016784668, 42.810001373291016, 42.61000061035156, null, 41.529998779296875, 42.58000183105469, 41.63999938964844, 41.2400016784668, 42.150001525878906, 40.45000076293945, 42.16999816894531, 42.619998931884766, 40.97999954223633, 41.04999923706055, 39.34000015258789, 39.09000015258789, 37.47999954223633, null, 36.86000061035156, 36.72999954223633, 36.540000915527344, 36.689998626708984, 37.560001373291016, 39.849998474121094, 38.68000030517578, 38.11000061035156, 37.11000061035156, 37.279998779296875, 38.08000183105469, 39.779998779296875, 39.470001220703125, null, 38.79999923706055, 39.130001068115234, 38.52000045776367, 37.52000045776367, 37.040000915527344, 37.47999954223633, 37.709999084472656, 37.79999923706055, 39.68000030517578, 38.619998931884766, 38.5, 37.52000045776367, 35.900001525878906, 36.18000030517578, null, 35.75, 33.939998626708984, 31.549999237060547, 24.829999923706055, 19.049999237060547, 17.989999771118164, 23.260000228881836, 24.709999084472656, 25.43000030517578, 22.260000228881836, 23.139999389648438, 22.68000030517578, null, 23.56999969482422, 23.309999465942383, 23.350000381469727, 23.149999618530273, 28.450000762939453, 23.469999313354492, 23.700000762939453, 23.31999969482422, 23.670000076293945, 22.649999618530273, 23.229999542236328, 22.989999771118164, 21.969999313354492, 23.329999923706055, null, 23.020000457763672, 21.920000076293945, 21.389999389648438, 20.3700008392334, 20.1200008392334, 18.309999465942383, 18.229999542236328, 16.969999313354492, 17.200000762939453, 16.209999084472656, 16.020000457763672, 15.819999694824219, null, 18.479999542236328, 19.969999313354492, 20.190000534057617, 20.600000381469727], \"type\": \"ohlc\", \"x\": [\"2017-11-27T00:00:00\", \"2017-12-04T00:00:00\", \"2017-12-11T00:00:00\", \"2017-12-18T00:00:00\", \"2017-12-25T00:00:00\", \"2018-01-01T00:00:00\", \"2018-01-08T00:00:00\", \"2018-01-15T00:00:00\", \"2018-01-22T00:00:00\", \"2018-01-29T00:00:00\", \"2018-02-05T00:00:00\", \"2018-02-12T00:00:00\", \"2018-02-15T00:00:00\", \"2018-02-19T00:00:00\", \"2018-02-26T00:00:00\", \"2018-03-05T00:00:00\", \"2018-03-12T00:00:00\", \"2018-03-19T00:00:00\", \"2018-03-26T00:00:00\", \"2018-04-02T00:00:00\", \"2018-04-09T00:00:00\", \"2018-04-16T00:00:00\", \"2018-04-23T00:00:00\", \"2018-04-30T00:00:00\", \"2018-05-07T00:00:00\", \"2018-05-10T00:00:00\", \"2018-05-14T00:00:00\", \"2018-05-21T00:00:00\", \"2018-05-28T00:00:00\", \"2018-06-04T00:00:00\", \"2018-06-11T00:00:00\", \"2018-06-18T00:00:00\", \"2018-06-25T00:00:00\", \"2018-07-02T00:00:00\", \"2018-07-09T00:00:00\", \"2018-07-16T00:00:00\", \"2018-07-23T00:00:00\", \"2018-07-30T00:00:00\", \"2018-08-06T00:00:00\", \"2018-08-09T00:00:00\", \"2018-08-13T00:00:00\", \"2018-08-20T00:00:00\", \"2018-08-27T00:00:00\", \"2018-09-03T00:00:00\", \"2018-09-10T00:00:00\", \"2018-09-17T00:00:00\", \"2018-09-24T00:00:00\", \"2018-10-01T00:00:00\", \"2018-10-08T00:00:00\", \"2018-10-15T00:00:00\", \"2018-10-22T00:00:00\", \"2018-10-29T00:00:00\", \"2018-11-05T00:00:00\", \"2018-11-08T00:00:00\", \"2018-11-12T00:00:00\", \"2018-11-19T00:00:00\", \"2018-11-26T00:00:00\", \"2018-12-03T00:00:00\", \"2018-12-10T00:00:00\", \"2018-12-17T00:00:00\", \"2018-12-24T00:00:00\", \"2018-12-31T00:00:00\", \"2019-01-07T00:00:00\", \"2019-01-14T00:00:00\", \"2019-01-21T00:00:00\", \"2019-01-28T00:00:00\", \"2019-02-04T00:00:00\", \"2019-02-11T00:00:00\", \"2019-02-14T00:00:00\", \"2019-02-18T00:00:00\", \"2019-02-25T00:00:00\", \"2019-03-04T00:00:00\", \"2019-03-11T00:00:00\", \"2019-03-18T00:00:00\", \"2019-03-25T00:00:00\", \"2019-04-01T00:00:00\", \"2019-04-08T00:00:00\", \"2019-04-15T00:00:00\", \"2019-04-22T00:00:00\", \"2019-04-29T00:00:00\", \"2019-05-06T00:00:00\", \"2019-05-09T00:00:00\", \"2019-05-13T00:00:00\", \"2019-05-20T00:00:00\", \"2019-05-27T00:00:00\", \"2019-06-03T00:00:00\", \"2019-06-10T00:00:00\", \"2019-06-17T00:00:00\", \"2019-06-24T00:00:00\", \"2019-07-01T00:00:00\", \"2019-07-08T00:00:00\", \"2019-07-15T00:00:00\", \"2019-07-22T00:00:00\", \"2019-07-29T00:00:00\", \"2019-08-05T00:00:00\", \"2019-08-08T00:00:00\", \"2019-08-12T00:00:00\", \"2019-08-19T00:00:00\", \"2019-08-26T00:00:00\", \"2019-09-02T00:00:00\", \"2019-09-09T00:00:00\", \"2019-09-16T00:00:00\", \"2019-09-23T00:00:00\", \"2019-09-30T00:00:00\", \"2019-10-07T00:00:00\", \"2019-10-14T00:00:00\", \"2019-10-21T00:00:00\", \"2019-10-28T00:00:00\", \"2019-11-04T00:00:00\", \"2019-11-07T00:00:00\", \"2019-11-11T00:00:00\", \"2019-11-18T00:00:00\", \"2019-11-25T00:00:00\", \"2019-12-02T00:00:00\", \"2019-12-09T00:00:00\", \"2019-12-16T00:00:00\", \"2019-12-23T00:00:00\", \"2019-12-30T00:00:00\", \"2020-01-06T00:00:00\", \"2020-01-13T00:00:00\", \"2020-01-20T00:00:00\", \"2020-01-27T00:00:00\", \"2020-02-03T00:00:00\", \"2020-02-10T00:00:00\", \"2020-02-13T00:00:00\", \"2020-02-17T00:00:00\", \"2020-02-24T00:00:00\", \"2020-03-02T00:00:00\", \"2020-03-09T00:00:00\", \"2020-03-16T00:00:00\", \"2020-03-23T00:00:00\", \"2020-03-30T00:00:00\", \"2020-04-06T00:00:00\", \"2020-04-13T00:00:00\", \"2020-04-20T00:00:00\", \"2020-04-27T00:00:00\", \"2020-05-04T00:00:00\", \"2020-05-08T00:00:00\", \"2020-05-11T00:00:00\", \"2020-05-18T00:00:00\", \"2020-05-25T00:00:00\", \"2020-06-01T00:00:00\", \"2020-06-08T00:00:00\", \"2020-06-15T00:00:00\", \"2020-06-22T00:00:00\", \"2020-06-29T00:00:00\", \"2020-07-06T00:00:00\", \"2020-07-13T00:00:00\", \"2020-07-20T00:00:00\", \"2020-07-27T00:00:00\", \"2020-08-03T00:00:00\", \"2020-08-10T00:00:00\", \"2020-08-13T00:00:00\", \"2020-08-17T00:00:00\", \"2020-08-24T00:00:00\", \"2020-08-31T00:00:00\", \"2020-09-07T00:00:00\", \"2020-09-14T00:00:00\", \"2020-09-21T00:00:00\", \"2020-09-28T00:00:00\", \"2020-10-05T00:00:00\", \"2020-10-12T00:00:00\", \"2020-10-19T00:00:00\", \"2020-10-26T00:00:00\", \"2020-11-02T00:00:00\", \"2020-11-05T00:00:00\", \"2020-11-09T00:00:00\", \"2020-11-16T00:00:00\", \"2020-11-23T00:00:00\", \"2020-11-30T00:00:00\"]}],                        {\"template\": {\"data\": {\"bar\": [{\"error_x\": {\"color\": \"#2a3f5f\"}, \"error_y\": {\"color\": \"#2a3f5f\"}, \"marker\": {\"line\": {\"color\": \"#E5ECF6\", \"width\": 0.5}}, \"type\": \"bar\"}], \"barpolar\": [{\"marker\": {\"line\": {\"color\": \"#E5ECF6\", \"width\": 0.5}}, \"type\": \"barpolar\"}], \"carpet\": [{\"aaxis\": {\"endlinecolor\": \"#2a3f5f\", \"gridcolor\": \"white\", \"linecolor\": \"white\", \"minorgridcolor\": \"white\", \"startlinecolor\": \"#2a3f5f\"}, \"baxis\": {\"endlinecolor\": \"#2a3f5f\", \"gridcolor\": \"white\", \"linecolor\": \"white\", \"minorgridcolor\": \"white\", \"startlinecolor\": \"#2a3f5f\"}, \"type\": \"carpet\"}], \"choropleth\": [{\"colorbar\": {\"outlinewidth\": 0, \"ticks\": \"\"}, \"type\": \"choropleth\"}], \"contour\": [{\"colorbar\": {\"outlinewidth\": 0, \"ticks\": \"\"}, \"colorscale\": [[0.0, \"#0d0887\"], [0.1111111111111111, \"#46039f\"], [0.2222222222222222, \"#7201a8\"], [0.3333333333333333, \"#9c179e\"], [0.4444444444444444, \"#bd3786\"], [0.5555555555555556, \"#d8576b\"], [0.6666666666666666, \"#ed7953\"], [0.7777777777777778, \"#fb9f3a\"], [0.8888888888888888, \"#fdca26\"], [1.0, \"#f0f921\"]], \"type\": \"contour\"}], \"contourcarpet\": [{\"colorbar\": {\"outlinewidth\": 0, \"ticks\": \"\"}, \"type\": \"contourcarpet\"}], \"heatmap\": [{\"colorbar\": {\"outlinewidth\": 0, \"ticks\": \"\"}, \"colorscale\": [[0.0, \"#0d0887\"], [0.1111111111111111, \"#46039f\"], [0.2222222222222222, \"#7201a8\"], [0.3333333333333333, \"#9c179e\"], [0.4444444444444444, \"#bd3786\"], [0.5555555555555556, \"#d8576b\"], [0.6666666666666666, \"#ed7953\"], [0.7777777777777778, \"#fb9f3a\"], [0.8888888888888888, \"#fdca26\"], [1.0, \"#f0f921\"]], \"type\": \"heatmap\"}], \"heatmapgl\": [{\"colorbar\": {\"outlinewidth\": 0, \"ticks\": \"\"}, \"colorscale\": [[0.0, \"#0d0887\"], [0.1111111111111111, \"#46039f\"], [0.2222222222222222, \"#7201a8\"], [0.3333333333333333, \"#9c179e\"], [0.4444444444444444, \"#bd3786\"], [0.5555555555555556, \"#d8576b\"], [0.6666666666666666, \"#ed7953\"], [0.7777777777777778, \"#fb9f3a\"], [0.8888888888888888, \"#fdca26\"], [1.0, \"#f0f921\"]], \"type\": \"heatmapgl\"}], \"histogram\": [{\"marker\": {\"colorbar\": {\"outlinewidth\": 0, \"ticks\": \"\"}}, \"type\": \"histogram\"}], \"histogram2d\": [{\"colorbar\": {\"outlinewidth\": 0, \"ticks\": \"\"}, \"colorscale\": [[0.0, \"#0d0887\"], [0.1111111111111111, \"#46039f\"], [0.2222222222222222, \"#7201a8\"], [0.3333333333333333, \"#9c179e\"], [0.4444444444444444, \"#bd3786\"], [0.5555555555555556, \"#d8576b\"], [0.6666666666666666, \"#ed7953\"], [0.7777777777777778, \"#fb9f3a\"], [0.8888888888888888, \"#fdca26\"], [1.0, \"#f0f921\"]], \"type\": \"histogram2d\"}], \"histogram2dcontour\": [{\"colorbar\": {\"outlinewidth\": 0, \"ticks\": \"\"}, \"colorscale\": [[0.0, \"#0d0887\"], [0.1111111111111111, \"#46039f\"], [0.2222222222222222, \"#7201a8\"], [0.3333333333333333, \"#9c179e\"], [0.4444444444444444, \"#bd3786\"], [0.5555555555555556, \"#d8576b\"], [0.6666666666666666, \"#ed7953\"], [0.7777777777777778, \"#fb9f3a\"], [0.8888888888888888, \"#fdca26\"], [1.0, \"#f0f921\"]], \"type\": \"histogram2dcontour\"}], \"mesh3d\": [{\"colorbar\": {\"outlinewidth\": 0, \"ticks\": \"\"}, \"type\": \"mesh3d\"}], \"parcoords\": [{\"line\": {\"colorbar\": {\"outlinewidth\": 0, \"ticks\": \"\"}}, \"type\": \"parcoords\"}], \"pie\": [{\"automargin\": true, \"type\": \"pie\"}], \"scatter\": [{\"marker\": {\"colorbar\": {\"outlinewidth\": 0, \"ticks\": \"\"}}, \"type\": \"scatter\"}], \"scatter3d\": [{\"line\": {\"colorbar\": {\"outlinewidth\": 0, \"ticks\": \"\"}}, \"marker\": {\"colorbar\": {\"outlinewidth\": 0, \"ticks\": \"\"}}, \"type\": \"scatter3d\"}], \"scattercarpet\": [{\"marker\": {\"colorbar\": {\"outlinewidth\": 0, \"ticks\": \"\"}}, \"type\": \"scattercarpet\"}], \"scattergeo\": [{\"marker\": {\"colorbar\": {\"outlinewidth\": 0, \"ticks\": \"\"}}, \"type\": \"scattergeo\"}], \"scattergl\": [{\"marker\": {\"colorbar\": {\"outlinewidth\": 0, \"ticks\": \"\"}}, \"type\": \"scattergl\"}], \"scattermapbox\": [{\"marker\": {\"colorbar\": {\"outlinewidth\": 0, \"ticks\": \"\"}}, \"type\": \"scattermapbox\"}], \"scatterpolar\": [{\"marker\": {\"colorbar\": {\"outlinewidth\": 0, \"ticks\": \"\"}}, \"type\": \"scatterpolar\"}], \"scatterpolargl\": [{\"marker\": {\"colorbar\": {\"outlinewidth\": 0, \"ticks\": \"\"}}, \"type\": \"scatterpolargl\"}], \"scatterternary\": [{\"marker\": {\"colorbar\": {\"outlinewidth\": 0, \"ticks\": \"\"}}, \"type\": \"scatterternary\"}], \"surface\": [{\"colorbar\": {\"outlinewidth\": 0, \"ticks\": \"\"}, \"colorscale\": [[0.0, \"#0d0887\"], [0.1111111111111111, \"#46039f\"], [0.2222222222222222, \"#7201a8\"], [0.3333333333333333, \"#9c179e\"], [0.4444444444444444, \"#bd3786\"], [0.5555555555555556, \"#d8576b\"], [0.6666666666666666, \"#ed7953\"], [0.7777777777777778, \"#fb9f3a\"], [0.8888888888888888, \"#fdca26\"], [1.0, \"#f0f921\"]], \"type\": \"surface\"}], \"table\": [{\"cells\": {\"fill\": {\"color\": \"#EBF0F8\"}, \"line\": {\"color\": \"white\"}}, \"header\": {\"fill\": {\"color\": \"#C8D4E3\"}, \"line\": {\"color\": \"white\"}}, \"type\": \"table\"}]}, \"layout\": {\"annotationdefaults\": {\"arrowcolor\": \"#2a3f5f\", \"arrowhead\": 0, \"arrowwidth\": 1}, \"coloraxis\": {\"colorbar\": {\"outlinewidth\": 0, \"ticks\": \"\"}}, \"colorscale\": {\"diverging\": [[0, \"#8e0152\"], [0.1, \"#c51b7d\"], [0.2, \"#de77ae\"], [0.3, \"#f1b6da\"], [0.4, \"#fde0ef\"], [0.5, \"#f7f7f7\"], [0.6, \"#e6f5d0\"], [0.7, \"#b8e186\"], [0.8, \"#7fbc41\"], [0.9, \"#4d9221\"], [1, \"#276419\"]], \"sequential\": [[0.0, \"#0d0887\"], [0.1111111111111111, \"#46039f\"], [0.2222222222222222, \"#7201a8\"], [0.3333333333333333, \"#9c179e\"], [0.4444444444444444, \"#bd3786\"], [0.5555555555555556, \"#d8576b\"], [0.6666666666666666, \"#ed7953\"], [0.7777777777777778, \"#fb9f3a\"], [0.8888888888888888, \"#fdca26\"], [1.0, \"#f0f921\"]], \"sequentialminus\": [[0.0, \"#0d0887\"], [0.1111111111111111, \"#46039f\"], [0.2222222222222222, \"#7201a8\"], [0.3333333333333333, \"#9c179e\"], [0.4444444444444444, \"#bd3786\"], [0.5555555555555556, \"#d8576b\"], [0.6666666666666666, \"#ed7953\"], [0.7777777777777778, \"#fb9f3a\"], [0.8888888888888888, \"#fdca26\"], [1.0, \"#f0f921\"]]}, \"colorway\": [\"#636efa\", \"#EF553B\", \"#00cc96\", \"#ab63fa\", \"#FFA15A\", \"#19d3f3\", \"#FF6692\", \"#B6E880\", \"#FF97FF\", \"#FECB52\"], \"font\": {\"color\": \"#2a3f5f\"}, \"geo\": {\"bgcolor\": \"white\", \"lakecolor\": \"white\", \"landcolor\": \"#E5ECF6\", \"showlakes\": true, \"showland\": true, \"subunitcolor\": \"white\"}, \"hoverlabel\": {\"align\": \"left\"}, \"hovermode\": \"closest\", \"mapbox\": {\"style\": \"light\"}, \"paper_bgcolor\": \"white\", \"plot_bgcolor\": \"#E5ECF6\", \"polar\": {\"angularaxis\": {\"gridcolor\": \"white\", \"linecolor\": \"white\", \"ticks\": \"\"}, \"bgcolor\": \"#E5ECF6\", \"radialaxis\": {\"gridcolor\": \"white\", \"linecolor\": \"white\", \"ticks\": \"\"}}, \"scene\": {\"xaxis\": {\"backgroundcolor\": \"#E5ECF6\", \"gridcolor\": \"white\", \"gridwidth\": 2, \"linecolor\": \"white\", \"showbackground\": true, \"ticks\": \"\", \"zerolinecolor\": \"white\"}, \"yaxis\": {\"backgroundcolor\": \"#E5ECF6\", \"gridcolor\": \"white\", \"gridwidth\": 2, \"linecolor\": \"white\", \"showbackground\": true, \"ticks\": \"\", \"zerolinecolor\": \"white\"}, \"zaxis\": {\"backgroundcolor\": \"#E5ECF6\", \"gridcolor\": \"white\", \"gridwidth\": 2, \"linecolor\": \"white\", \"showbackground\": true, \"ticks\": \"\", \"zerolinecolor\": \"white\"}}, \"shapedefaults\": {\"line\": {\"color\": \"#2a3f5f\"}}, \"ternary\": {\"aaxis\": {\"gridcolor\": \"white\", \"linecolor\": \"white\", \"ticks\": \"\"}, \"baxis\": {\"gridcolor\": \"white\", \"linecolor\": \"white\", \"ticks\": \"\"}, \"bgcolor\": \"#E5ECF6\", \"caxis\": {\"gridcolor\": \"white\", \"linecolor\": \"white\", \"ticks\": \"\"}}, \"title\": {\"x\": 0.05}, \"xaxis\": {\"automargin\": true, \"gridcolor\": \"white\", \"linecolor\": \"white\", \"ticks\": \"\", \"title\": {\"standoff\": 15}, \"zerolinecolor\": \"white\", \"zerolinewidth\": 2}, \"yaxis\": {\"automargin\": true, \"gridcolor\": \"white\", \"linecolor\": \"white\", \"ticks\": \"\", \"title\": {\"standoff\": 15}, \"zerolinecolor\": \"white\", \"zerolinewidth\": 2}}}},                        {\"responsive\": true}                    ).then(function(){\n",
       "                            \n",
       "var gd = document.getElementById('15785457-b2a5-4fba-b851-19a41fc45f2e');\n",
       "var x = new MutationObserver(function (mutations, observer) {{\n",
       "        var display = window.getComputedStyle(gd).display;\n",
       "        if (!display || display === 'none') {{\n",
       "            console.log([gd, 'removed!']);\n",
       "            Plotly.purge(gd);\n",
       "            observer.disconnect();\n",
       "        }}\n",
       "}});\n",
       "\n",
       "// Listen for the removal of the full notebook cells\n",
       "var notebookContainer = gd.closest('#notebook-container');\n",
       "if (notebookContainer) {{\n",
       "    x.observe(notebookContainer, {childList: true});\n",
       "}}\n",
       "\n",
       "// Listen for the clearing of the current output cell\n",
       "var outputEl = gd.closest('.output');\n",
       "if (outputEl) {{\n",
       "    x.observe(outputEl, {childList: true});\n",
       "}}\n",
       "\n",
       "                        })                };                });            </script>        </div>"
      ]
     },
     "metadata": {},
     "output_type": "display_data"
    }
   ],
   "source": [
    "import plotly.graph_objects as go\n",
    "fig = go.Figure(\n",
    "    data=go.Ohlc(\n",
    "        x=df.index,\n",
    "        open=df[\"Open\"],\n",
    "        high=df[\"High\"],\n",
    "        low=df[\"Low\"],\n",
    "        close=df[\"Close\"],\n",
    "    )\n",
    ")\n",
    "fig.show()"
   ]
  },
  {
   "cell_type": "markdown",
   "metadata": {},
   "source": [
    "### Return Deviation — to determine risk and return"
   ]
  },
  {
   "cell_type": "code",
   "execution_count": 48,
   "metadata": {},
   "outputs": [
    {
     "data": {
      "text/plain": [
       "<matplotlib.axes._subplots.AxesSubplot at 0x127492d50>"
      ]
     },
     "execution_count": 48,
     "metadata": {},
     "output_type": "execute_result"
    },
    {
     "data": {
      "image/png": "[encoded data removed]",
      "text/plain": [
       "<Figure size 576x504 with 1 Axes>"
      ]
     },
     "metadata": {},
     "output_type": "display_data"
    }
   ],
   "source": [
    "rets = close_px / close_px.shift(1) - 1\n",
    "rets.plot(label='return')\n"
   ]
  },
  {
   "cell_type": "markdown",
   "metadata": {},
   "source": [
    "### Analysing Competitors stock\n"
   ]
  },
  {
   "cell_type": "code",
   "execution_count": 53,
   "metadata": {},
   "outputs": [
    {
     "name": "stdout",
     "output_type": "stream",
     "text": [
      "[*********************100%***********************]  5 of 5 completed\n"
     ]
    }
   ],
   "source": [
    "dfcomp = yf.download(['RDS-A', 'PTR', 'XOM', 'CVX', 'LUKOY'], start=\"2017-12-01\", end=\"2020-12-01\", interval=\"1wk\")['Close']"
   ]
  },
  {
   "cell_type": "code",
   "execution_count": 54,
   "metadata": {},
   "outputs": [],
   "source": [
    "### Correlation between competitors\n",
    "retscomp = dfcomp.pct_change()\n",
    "\n",
    "corr = retscomp.corr()"
   ]
  },
  {
   "cell_type": "code",
   "execution_count": 57,
   "metadata": {},
   "outputs": [
    {
     "data": {
      "image/png": "[encoded data removed]",
      "text/plain": [
       "<Figure size 576x504 with 1 Axes>"
      ]
     },
     "metadata": {},
     "output_type": "display_data"
    }
   ],
   "source": [
    "plt.scatter(retscomp.mean(), retscomp.std())\n",
    "plt.xlabel('Expected returns')\n",
    "plt.ylabel('Risk')\n",
    "for label, x, y in zip(retscomp.columns, retscomp.mean(), retscomp.std()):\n",
    "    plt.annotate(\n",
    "        label, \n",
    "        xy = (x, y), xytext = (20, -20),\n",
    "        textcoords = 'offset points', ha = 'right', va = 'bottom',\n",
    "        bbox = dict(boxstyle = 'round,pad=0.5', fc = 'yellow', alpha = 0.5),\n",
    "        arrowprops = dict(arrowstyle = '->', connectionstyle = 'arc3,rad=0'))"
   ]
  },
  {
   "cell_type": "code",
   "execution_count": 58,
   "metadata": {},
   "outputs": [],
   "source": [
    "### Prediction using prophet"
   ]
  },
  {
   "cell_type": "code",
   "execution_count": 59,
   "metadata": {},
   "outputs": [],
   "source": [
    "from fbprophet import Prophet"
   ]
  },
  {
   "cell_type": "code",
   "execution_count": 60,
   "metadata": {},
   "outputs": [
    {
     "ename": "KeyError",
     "evalue": "'Date'",
     "output_type": "error",
     "traceback": [
      "\u001b[0;31m---------------------------------------------------------------------------\u001b[0m",
      "\u001b[0;31mKeyError\u001b[0m                                  Traceback (most recent call last)",
      "\u001b[0;32m/opt/anaconda3/lib/python3.7/site-packages/pandas/core/indexes/base.py\u001b[0m in \u001b[0;36mget_loc\u001b[0;34m(self, key, method, tolerance)\u001b[0m\n\u001b[1;32m   2890\u001b[0m             \u001b[0;32mtry\u001b[0m\u001b[0;34m:\u001b[0m\u001b[0;34m\u001b[0m\u001b[0;34m\u001b[0m\u001b[0m\n\u001b[0;32m-> 2891\u001b[0;31m                 \u001b[0;32mreturn\u001b[0m \u001b[0mself\u001b[0m\u001b[0;34m.\u001b[0m\u001b[0m_engine\u001b[0m\u001b[0;34m.\u001b[0m\u001b[0mget_loc\u001b[0m\u001b[0;34m(\u001b[0m\u001b[0mcasted_key\u001b[0m\u001b[0;34m)\u001b[0m\u001b[0;34m\u001b[0m\u001b[0;34m\u001b[0m\u001b[0m\n\u001b[0m\u001b[1;32m   2892\u001b[0m             \u001b[0;32mexcept\u001b[0m \u001b[0mKeyError\u001b[0m \u001b[0;32mas\u001b[0m \u001b[0merr\u001b[0m\u001b[0;34m:\u001b[0m\u001b[0;34m\u001b[0m\u001b[0;34m\u001b[0m\u001b[0m\n",
      "\u001b[0;32mpandas/_libs/index.pyx\u001b[0m in \u001b[0;36mpandas._libs.index.IndexEngine.get_loc\u001b[0;34m()\u001b[0m\n",
      "\u001b[0;32mpandas/_libs/index.pyx\u001b[0m in \u001b[0;36mpandas._libs.index.IndexEngine.get_loc\u001b[0;34m()\u001b[0m\n",
      "\u001b[0;32mpandas/_libs/hashtable_class_helper.pxi\u001b[0m in \u001b[0;36mpandas._libs.hashtable.PyObjectHashTable.get_item\u001b[0;34m()\u001b[0m\n",
      "\u001b[0;32mpandas/_libs/hashtable_class_helper.pxi\u001b[0m in \u001b[0;36mpandas._libs.hashtable.PyObjectHashTable.get_item\u001b[0;34m()\u001b[0m\n",
      "\u001b[0;31mKeyError\u001b[0m: 'Date'",
      "\nThe above exception was the direct cause of the following exception:\n",
      "\u001b[0;31mKeyError\u001b[0m                                  Traceback (most recent call last)",
      "\u001b[0;32m<ipython-input-60-22ce0699120e>\u001b[0m in \u001b[0;36m<module>\u001b[0;34m\u001b[0m\n\u001b[1;32m      1\u001b[0m \u001b[0;31m#preparing data\u001b[0m\u001b[0;34m\u001b[0m\u001b[0;34m\u001b[0m\u001b[0;34m\u001b[0m\u001b[0m\n\u001b[0;32m----> 2\u001b[0;31m \u001b[0mdf\u001b[0m\u001b[0;34m[\u001b[0m\u001b[0;34m'ds'\u001b[0m\u001b[0;34m]\u001b[0m \u001b[0;34m=\u001b[0m \u001b[0mdf\u001b[0m\u001b[0;34m[\u001b[0m\u001b[0;34m'Date'\u001b[0m\u001b[0;34m]\u001b[0m\u001b[0;34m\u001b[0m\u001b[0;34m\u001b[0m\u001b[0m\n\u001b[0m\u001b[1;32m      3\u001b[0m \u001b[0mdf\u001b[0m\u001b[0;34m[\u001b[0m\u001b[0;34m'y'\u001b[0m\u001b[0;34m]\u001b[0m \u001b[0;34m=\u001b[0m \u001b[0mdf\u001b[0m\u001b[0;34m[\u001b[0m\u001b[0;34m'Close'\u001b[0m\u001b[0;34m]\u001b[0m\u001b[0;34m\u001b[0m\u001b[0;34m\u001b[0m\u001b[0m\n\u001b[1;32m      4\u001b[0m \u001b[0;34m\u001b[0m\u001b[0m\n\u001b[1;32m      5\u001b[0m \u001b[0;31m#fit the model\u001b[0m\u001b[0;34m\u001b[0m\u001b[0;34m\u001b[0m\u001b[0;34m\u001b[0m\u001b[0m\n",
      "\u001b[0;32m/opt/anaconda3/lib/python3.7/site-packages/pandas/core/frame.py\u001b[0m in \u001b[0;36m__getitem__\u001b[0;34m(self, key)\u001b[0m\n\u001b[1;32m   2900\u001b[0m             \u001b[0;32mif\u001b[0m \u001b[0mself\u001b[0m\u001b[0;34m.\u001b[0m\u001b[0mcolumns\u001b[0m\u001b[0;34m.\u001b[0m\u001b[0mnlevels\u001b[0m \u001b[0;34m>\u001b[0m \u001b[0;36m1\u001b[0m\u001b[0;34m:\u001b[0m\u001b[0;34m\u001b[0m\u001b[0;34m\u001b[0m\u001b[0m\n\u001b[1;32m   2901\u001b[0m                 \u001b[0;32mreturn\u001b[0m \u001b[0mself\u001b[0m\u001b[0;34m.\u001b[0m\u001b[0m_getitem_multilevel\u001b[0m\u001b[0;34m(\u001b[0m\u001b[0mkey\u001b[0m\u001b[0;34m)\u001b[0m\u001b[0;34m\u001b[0m\u001b[0;34m\u001b[0m\u001b[0m\n\u001b[0;32m-> 2902\u001b[0;31m             \u001b[0mindexer\u001b[0m \u001b[0;34m=\u001b[0m \u001b[0mself\u001b[0m\u001b[0;34m.\u001b[0m\u001b[0mcolumns\u001b[0m\u001b[0;34m.\u001b[0m\u001b[0mget_loc\u001b[0m\u001b[0;34m(\u001b[0m\u001b[0mkey\u001b[0m\u001b[0;34m)\u001b[0m\u001b[0;34m\u001b[0m\u001b[0;34m\u001b[0m\u001b[0m\n\u001b[0m\u001b[1;32m   2903\u001b[0m             \u001b[0;32mif\u001b[0m \u001b[0mis_integer\u001b[0m\u001b[0;34m(\u001b[0m\u001b[0mindexer\u001b[0m\u001b[0;34m)\u001b[0m\u001b[0;34m:\u001b[0m\u001b[0;34m\u001b[0m\u001b[0;34m\u001b[0m\u001b[0m\n\u001b[1;32m   2904\u001b[0m                 \u001b[0mindexer\u001b[0m \u001b[0;34m=\u001b[0m \u001b[0;34m[\u001b[0m\u001b[0mindexer\u001b[0m\u001b[0;34m]\u001b[0m\u001b[0;34m\u001b[0m\u001b[0;34m\u001b[0m\u001b[0m\n",
      "\u001b[0;32m/opt/anaconda3/lib/python3.7/site-packages/pandas/core/indexes/base.py\u001b[0m in \u001b[0;36mget_loc\u001b[0;34m(self, key, method, tolerance)\u001b[0m\n\u001b[1;32m   2891\u001b[0m                 \u001b[0;32mreturn\u001b[0m \u001b[0mself\u001b[0m\u001b[0;34m.\u001b[0m\u001b[0m_engine\u001b[0m\u001b[0;34m.\u001b[0m\u001b[0mget_loc\u001b[0m\u001b[0;34m(\u001b[0m\u001b[0mcasted_key\u001b[0m\u001b[0;34m)\u001b[0m\u001b[0;34m\u001b[0m\u001b[0;34m\u001b[0m\u001b[0m\n\u001b[1;32m   2892\u001b[0m             \u001b[0;32mexcept\u001b[0m \u001b[0mKeyError\u001b[0m \u001b[0;32mas\u001b[0m \u001b[0merr\u001b[0m\u001b[0;34m:\u001b[0m\u001b[0;34m\u001b[0m\u001b[0;34m\u001b[0m\u001b[0m\n\u001b[0;32m-> 2893\u001b[0;31m                 \u001b[0;32mraise\u001b[0m \u001b[0mKeyError\u001b[0m\u001b[0;34m(\u001b[0m\u001b[0mkey\u001b[0m\u001b[0;34m)\u001b[0m \u001b[0;32mfrom\u001b[0m \u001b[0merr\u001b[0m\u001b[0;34m\u001b[0m\u001b[0;34m\u001b[0m\u001b[0m\n\u001b[0m\u001b[1;32m   2894\u001b[0m \u001b[0;34m\u001b[0m\u001b[0m\n\u001b[1;32m   2895\u001b[0m         \u001b[0;32mif\u001b[0m \u001b[0mtolerance\u001b[0m \u001b[0;32mis\u001b[0m \u001b[0;32mnot\u001b[0m \u001b[0;32mNone\u001b[0m\u001b[0;34m:\u001b[0m\u001b[0;34m\u001b[0m\u001b[0;34m\u001b[0m\u001b[0m\n",
      "\u001b[0;31mKeyError\u001b[0m: 'Date'"
     ]
    }
   ],
   "source": [
    "#preparing data\n",
    "df['ds'] = df['Date']\n",
    "df['y'] = df['Close']\n",
    "\n",
    "#fit the model\n",
    "model = Prophet()\n",
    "model.fit(df)\n",
    "\n",
    "#predict\n",
    "future = model.make_future_dataframe(periods=3, freq='MS')\n",
    "forecast = model.predict(future)\n",
    "\n",
    "\n",
    "\n",
    "model.plot(forecast_KO)\n",
    "print(forecast_KO)\n",
    "forecast_KO.to_csv('KO_forecast.csv', index=True)"
   ]
  },
  {
   "cell_type": "code",
   "execution_count": 60,
   "metadata": {},
   "outputs": [],
   "source": [
    "tickers_list = [\"SNP\",\"PTR\",'RDS',\"BP\",\"XOM\",\"TOT\",\"CVX\",\"MPC\",\"LUKOY\"]\n",
    "historical_datas = {}\n",
    "for ticker in ticker_list:\n",
    "    historical_datas[ticker] = get_data(ticker)"
   ]
  },
  {
   "cell_type": "code",
   "execution_count": null,
   "metadata": {},
   "outputs": [],
   "source": [
    "\"SNP PTR RDS  BP XOM TOT CVX MPC LUKOY"
   ]
  }
 ],
 "metadata": {
  "kernelspec": {
   "display_name": "Python 3",
   "language": "python",
   "name": "python3"
  },
  "language_info": {
   "codemirror_mode": {
    "name": "ipython",
    "version": 3
   },
   "file_extension": ".py",
   "mimetype": "text/x-python",
   "name": "python",
   "nbconvert_exporter": "python",
   "pygments_lexer": "ipython3",
   "version": "3.7.6"
  }
 },
 "nbformat": 4,
 "nbformat_minor": 4
}
